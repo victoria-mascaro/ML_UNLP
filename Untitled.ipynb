{
 "cells": [
  {
   "cell_type": "code",
   "execution_count": 1,
   "id": "ab54ab38-7016-4ffe-a212-e348cc016528",
   "metadata": {},
   "outputs": [],
   "source": [
    "# Instalar Kaggle\n",
    "!pip install -q kaggle"
   ]
  },
  {
   "cell_type": "code",
   "execution_count": 2,
   "id": "ad9d00ee-b983-4b9f-859c-afe4a7970fcf",
   "metadata": {},
   "outputs": [
    {
     "ename": "SyntaxError",
     "evalue": "invalid syntax (1623299133.py, line 1)",
     "output_type": "error",
     "traceback": [
      "\u001b[1;36m  Cell \u001b[1;32mIn[2], line 1\u001b[1;36m\u001b[0m\n\u001b[1;33m    kaggle competitions download -c mlunlp-2024-ps-2\u001b[0m\n\u001b[1;37m           ^\u001b[0m\n\u001b[1;31mSyntaxError\u001b[0m\u001b[1;31m:\u001b[0m invalid syntax\n"
     ]
    }
   ],
   "source": [
    "kaggle competitions download -c mlunlp-2024-ps-2"
   ]
  },
  {
   "cell_type": "code",
   "execution_count": 3,
   "id": "4b1c232f-a327-4107-9698-5cfea284a211",
   "metadata": {},
   "outputs": [
    {
     "ename": "SyntaxError",
     "evalue": "(unicode error) 'unicodeescape' codec can't decode bytes in position 2-3: truncated \\UXXXXXXXX escape (3807626248.py, line 1)",
     "output_type": "error",
     "traceback": [
      "\u001b[1;36m  Cell \u001b[1;32mIn[3], line 1\u001b[1;36m\u001b[0m\n\u001b[1;33m    path = 'C:\\Users\\vmascaro\\Desktop\\UNLP\\Machine_Learning\\ML_UNLP\\TP2'\u001b[0m\n\u001b[1;37m           ^\u001b[0m\n\u001b[1;31mSyntaxError\u001b[0m\u001b[1;31m:\u001b[0m (unicode error) 'unicodeescape' codec can't decode bytes in position 2-3: truncated \\UXXXXXXXX escape\n"
     ]
    }
   ],
   "source": [
    "path = 'C:\\Users\\vmascaro\\Desktop\\UNLP\\Machine_Learning\\ML_UNLP\\TP2'"
   ]
  },
  {
   "cell_type": "code",
   "execution_count": null,
   "id": "05b43395-6914-45fa-8699-8cd31a8ee739",
   "metadata": {},
   "outputs": [],
   "source": [
    "# Descomprimir archivos\n",
    "!unzip -q mlunlp-2024-ps-2.zip -d data"
   ]
  }
 ],
 "metadata": {
  "kernelspec": {
   "display_name": "Python 3 (ipykernel)",
   "language": "python",
   "name": "python3"
  },
  "language_info": {
   "codemirror_mode": {
    "name": "ipython",
    "version": 3
   },
   "file_extension": ".py",
   "mimetype": "text/x-python",
   "name": "python",
   "nbconvert_exporter": "python",
   "pygments_lexer": "ipython3",
   "version": "3.12.4"
  }
 },
 "nbformat": 4,
 "nbformat_minor": 5
}
