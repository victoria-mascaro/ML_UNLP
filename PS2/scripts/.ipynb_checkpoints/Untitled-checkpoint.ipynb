{
 "cells": [
  {
   "cell_type": "code",
   "execution_count": null,
   "id": "0a912749-c3e8-425c-b696-6bb97204e20c",
   "metadata": {},
   "outputs": [],
   "source": [
    "# Librerías básicas para manipulación y análisis de datos\n",
    "import os\n",
    "import pandas as pd\n",
    "import numpy as np\n",
    "\n",
    "# Librerías para visualización\n",
    "import matplotlib.pyplot as plt\n",
    "import seaborn as sns\n",
    "\n",
    "# Librerías para preprocesamiento y evaluación\n",
    "from sklearn.model_selection import train_test_split\n",
    "from sklearn.preprocessing import StandardScaler, LabelEncoder\n",
    "from sklearn.metrics import classification_report, confusion_matrix, mean_squared_error\n",
    "\n",
    "# Modelos (regresión y clasificación)\n",
    "from sklearn.linear_model import LinearRegression, ElasticNet, LogisticRegression\n",
    "from sklearn.tree import DecisionTreeClassifier\n",
    "from sklearn.ensemble import RandomForestClassifier, GradientBoostingClassifier\n",
    "from sklearn.neural_network import MLPClassifier\n",
    "\n",
    "# Otras utilidades\n",
    "import warnings\n",
    "warnings.filterwarnings(\"ignore\")"
   ]
  },
  {
   "cell_type": "code",
   "execution_count": null,
   "id": "c101aa93-64b2-4858-aaab-2783fc13408c",
   "metadata": {},
   "outputs": [],
   "source": [
    "## Objetivo: dejar paths relativos\n",
    "# Obtener el directorio actual\n",
    "current_dir = os.getcwd()\n",
    "\n",
    "# Buscar el directorio 'ML_UNLP' en el path\n",
    "repo_dir = os.path.abspath(os.path.join(current_dir, '../../'))\n",
    "\n",
    "# Cambiar al directorio ML_UNLP\n",
    "os.chdir(repo_dir)\n",
    "\n",
    "# Verificar que se cambió al directorio correcto\n",
    "print(\"Directorio actual:\", os.getcwd())"
   ]
  },
  {
   "cell_type": "markdown",
   "id": "2745e20b-d804-482b-8773-281db6795505",
   "metadata": {},
   "source": [
    "## Carga de Datos"
   ]
  },
  {
   "cell_type": "code",
   "execution_count": null,
   "id": "ead032ce-7fc4-45fe-9828-f0f7d18d60d9",
   "metadata": {},
   "outputs": [],
   "source": [
    "# Train\n",
    "train_hogares = pd.read_csv(\"PS2/stores/train_hogares.csv\")\n",
    "train_hogares.head()"
   ]
  },
  {
   "cell_type": "code",
   "execution_count": null,
   "id": "0e8b5bef-dfad-4cf3-a7ee-a4557a5f5c5b",
   "metadata": {},
   "outputs": [],
   "source": [
    "# Test\n",
    "test_hogares = pd.read_csv(\"PS2/stores/test_hogares.csv\")\n",
    "test_hogares"
   ]
  },
  {
   "cell_type": "code",
   "execution_count": null,
   "id": "ba0748d0-6e2b-4875-8717-e5a1d7a1eac0",
   "metadata": {},
   "outputs": [],
   "source": [
    "One-Hot Encoding: Es útil cuando tienes pocas categorías y las categorías no tienen un orden específico.\n",
    "Label Encoding: Es útil cuando las categorías tienen un orden natural (por ejemplo, \"bajo\", \"medio\", \"alto\")."
   ]
  },
  {
   "cell_type": "code",
   "execution_count": null,
   "id": "916f3cf2-ab55-4943-a004-875a80f0493f",
   "metadata": {},
   "outputs": [],
   "source": []
  },
  {
   "cell_type": "code",
   "execution_count": null,
   "id": "719196a8-7caf-4f80-9117-403911bc9fae",
   "metadata": {},
   "outputs": [],
   "source": []
  }
 ],
 "metadata": {
  "kernelspec": {
   "display_name": "Python 3 (ipykernel)",
   "language": "python",
   "name": "python3"
  },
  "language_info": {
   "codemirror_mode": {
    "name": "ipython",
    "version": 3
   },
   "file_extension": ".py",
   "mimetype": "text/x-python",
   "name": "python",
   "nbconvert_exporter": "python",
   "pygments_lexer": "ipython3",
   "version": "3.12.4"
  }
 },
 "nbformat": 4,
 "nbformat_minor": 5
}
