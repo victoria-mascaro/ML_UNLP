{
 "cells": [
  {
   "cell_type": "code",
   "execution_count": 2,
   "id": "d6cf8363-eb2f-46f1-bf93-2bf5d188271a",
   "metadata": {},
   "outputs": [],
   "source": [
    "# Librerías básicas para manipulación y análisis de datos\n",
    "import os\n",
    "import pandas as pd\n",
    "import numpy as np\n",
    "\n",
    "# Librerías para visualización\n",
    "import matplotlib.pyplot as plt\n",
    "import seaborn as sns\n",
    "\n",
    "# Librerías para preprocesamiento y evaluación\n",
    "from sklearn.model_selection import train_test_split\n",
    "from sklearn.preprocessing import StandardScaler, LabelEncoder\n",
    "from sklearn.metrics import classification_report, confusion_matrix, mean_squared_error\n",
    "\n",
    "# Modelos (regresión y clasificación)\n",
    "from sklearn.linear_model import LinearRegression, ElasticNet, LogisticRegression\n",
    "from sklearn.tree import DecisionTreeClassifier\n",
    "from sklearn.ensemble import RandomForestClassifier, GradientBoostingClassifier\n",
    "from sklearn.neural_network import MLPClassifier\n",
    "\n",
    "# Otras utilidades\n",
    "import warnings\n",
    "warnings.filterwarnings(\"ignore\")"
   ]
  },
  {
   "cell_type": "code",
   "execution_count": 3,
   "id": "7c9dad5a-fc53-4cd7-a9a4-67aeb0e2ea08",
   "metadata": {},
   "outputs": [],
   "source": [
    "# Obtener el directorio actual\n",
    "current_dir = os.getcwd()"
   ]
  },
  {
   "cell_type": "code",
   "execution_count": 4,
   "id": "a29eaa45-9b23-4f8f-88af-f313992f1629",
   "metadata": {},
   "outputs": [
    {
     "data": {
      "text/plain": [
       "'C:\\\\Users\\\\vmascaro\\\\Desktop\\\\UNLP\\\\Machine_Learning\\\\ML_UNLP\\\\PS2\\\\scripts'"
      ]
     },
     "execution_count": 4,
     "metadata": {},
     "output_type": "execute_result"
    }
   ],
   "source": [
    "current_dir"
   ]
  },
  {
   "cell_type": "code",
   "execution_count": 6,
   "id": "6d8eee98-7328-42a0-ba8e-0ac27d08c004",
   "metadata": {},
   "outputs": [
    {
     "name": "stdout",
     "output_type": "stream",
     "text": [
      "Directorio actual: C:\\Users\\vmascaro\\Desktop\\UNLP\\Machine_Learning\\ML_UNLP\n"
     ]
    }
   ],
   "source": [
    "# Obtener el directorio actual\n",
    "current_dir = os.getcwd()\n",
    "\n",
    "# Buscar el directorio 'ML_UNLP' en el path\n",
    "repo_dir = os.path.abspath(os.path.join(current_dir, '../../'))\n",
    "\n",
    "# Cambiar al directorio ML_UNLP\n",
    "os.chdir(repo_dir)\n",
    "\n",
    "# Verificar que se cambió al directorio correcto\n",
    "print(\"Directorio actual:\", os.getcwd())"
   ]
  },
  {
   "cell_type": "code",
   "execution_count": null,
   "id": "04c931e4-ccac-4caf-9db0-a782a6fee89a",
   "metadata": {},
   "outputs": [],
   "source": []
  },
  {
   "cell_type": "markdown",
   "id": "4f8e3a24-a716-4410-8c66-61524ca9f4d1",
   "metadata": {},
   "source": [
    "## Carga de Datos"
   ]
  },
  {
   "cell_type": "code",
   "execution_count": 7,
   "id": "ca25188c-86ea-4946-aeee-4c2872fa7c9d",
   "metadata": {},
   "outputs": [
    {
     "data": {
      "text/html": [
       "<div>\n",
       "<style scoped>\n",
       "    .dataframe tbody tr th:only-of-type {\n",
       "        vertical-align: middle;\n",
       "    }\n",
       "\n",
       "    .dataframe tbody tr th {\n",
       "        vertical-align: top;\n",
       "    }\n",
       "\n",
       "    .dataframe thead th {\n",
       "        text-align: right;\n",
       "    }\n",
       "</style>\n",
       "<table border=\"1\" class=\"dataframe\">\n",
       "  <thead>\n",
       "    <tr style=\"text-align: right;\">\n",
       "      <th></th>\n",
       "      <th>id</th>\n",
       "      <th>Clase</th>\n",
       "      <th>Dominio</th>\n",
       "      <th>P5000</th>\n",
       "      <th>P5010</th>\n",
       "      <th>P5090</th>\n",
       "      <th>P5100</th>\n",
       "      <th>P5130</th>\n",
       "      <th>P5140</th>\n",
       "      <th>Nper</th>\n",
       "      <th>...</th>\n",
       "      <th>Ingpcug</th>\n",
       "      <th>Li</th>\n",
       "      <th>Lp</th>\n",
       "      <th>Pobre</th>\n",
       "      <th>Indigente</th>\n",
       "      <th>Npobres</th>\n",
       "      <th>Nindigentes</th>\n",
       "      <th>Fex_c</th>\n",
       "      <th>Depto</th>\n",
       "      <th>Fex_dpto</th>\n",
       "    </tr>\n",
       "  </thead>\n",
       "  <tbody>\n",
       "    <tr>\n",
       "      <th>0</th>\n",
       "      <td>8d0193e328305a042001a35f</td>\n",
       "      <td>1</td>\n",
       "      <td>MEDELLIN</td>\n",
       "      <td>4</td>\n",
       "      <td>2</td>\n",
       "      <td>1</td>\n",
       "      <td>NaN</td>\n",
       "      <td>400000.0</td>\n",
       "      <td>NaN</td>\n",
       "      <td>5</td>\n",
       "      <td>...</td>\n",
       "      <td>5.816661e+05</td>\n",
       "      <td>122809.534158</td>\n",
       "      <td>289878.24715</td>\n",
       "      <td>0</td>\n",
       "      <td>0</td>\n",
       "      <td>0</td>\n",
       "      <td>0</td>\n",
       "      <td>127.222038</td>\n",
       "      <td>5</td>\n",
       "      <td>146.251790</td>\n",
       "    </tr>\n",
       "    <tr>\n",
       "      <th>1</th>\n",
       "      <td>cf7491d7f2cc9c216bd009e7</td>\n",
       "      <td>1</td>\n",
       "      <td>MEDELLIN</td>\n",
       "      <td>5</td>\n",
       "      <td>4</td>\n",
       "      <td>3</td>\n",
       "      <td>NaN</td>\n",
       "      <td>NaN</td>\n",
       "      <td>250000.0</td>\n",
       "      <td>4</td>\n",
       "      <td>...</td>\n",
       "      <td>1.612500e+05</td>\n",
       "      <td>122809.534158</td>\n",
       "      <td>289878.24715</td>\n",
       "      <td>1</td>\n",
       "      <td>0</td>\n",
       "      <td>4</td>\n",
       "      <td>0</td>\n",
       "      <td>115.866093</td>\n",
       "      <td>5</td>\n",
       "      <td>93.080952</td>\n",
       "    </tr>\n",
       "    <tr>\n",
       "      <th>2</th>\n",
       "      <td>d90a57f64d2a84dbacbed2a5</td>\n",
       "      <td>1</td>\n",
       "      <td>MEDELLIN</td>\n",
       "      <td>4</td>\n",
       "      <td>2</td>\n",
       "      <td>1</td>\n",
       "      <td>NaN</td>\n",
       "      <td>700000.0</td>\n",
       "      <td>NaN</td>\n",
       "      <td>3</td>\n",
       "      <td>...</td>\n",
       "      <td>2.000000e+06</td>\n",
       "      <td>122809.534158</td>\n",
       "      <td>289878.24715</td>\n",
       "      <td>0</td>\n",
       "      <td>0</td>\n",
       "      <td>0</td>\n",
       "      <td>0</td>\n",
       "      <td>100.123276</td>\n",
       "      <td>5</td>\n",
       "      <td>89.637086</td>\n",
       "    </tr>\n",
       "    <tr>\n",
       "      <th>3</th>\n",
       "      <td>db34e387a94a783188ab3a33</td>\n",
       "      <td>1</td>\n",
       "      <td>MEDELLIN</td>\n",
       "      <td>3</td>\n",
       "      <td>1</td>\n",
       "      <td>1</td>\n",
       "      <td>NaN</td>\n",
       "      <td>450000.0</td>\n",
       "      <td>NaN</td>\n",
       "      <td>1</td>\n",
       "      <td>...</td>\n",
       "      <td>2.450000e+06</td>\n",
       "      <td>122809.534158</td>\n",
       "      <td>289878.24715</td>\n",
       "      <td>0</td>\n",
       "      <td>0</td>\n",
       "      <td>0</td>\n",
       "      <td>0</td>\n",
       "      <td>108.829812</td>\n",
       "      <td>5</td>\n",
       "      <td>95.584376</td>\n",
       "    </tr>\n",
       "    <tr>\n",
       "      <th>4</th>\n",
       "      <td>97bbef785824746ecab09c6f</td>\n",
       "      <td>1</td>\n",
       "      <td>MEDELLIN</td>\n",
       "      <td>4</td>\n",
       "      <td>3</td>\n",
       "      <td>3</td>\n",
       "      <td>NaN</td>\n",
       "      <td>NaN</td>\n",
       "      <td>500000.0</td>\n",
       "      <td>5</td>\n",
       "      <td>...</td>\n",
       "      <td>2.520000e+05</td>\n",
       "      <td>122809.534158</td>\n",
       "      <td>289878.24715</td>\n",
       "      <td>1</td>\n",
       "      <td>0</td>\n",
       "      <td>5</td>\n",
       "      <td>0</td>\n",
       "      <td>110.412859</td>\n",
       "      <td>5</td>\n",
       "      <td>124.560515</td>\n",
       "    </tr>\n",
       "  </tbody>\n",
       "</table>\n",
       "<p>5 rows × 23 columns</p>\n",
       "</div>"
      ],
      "text/plain": [
       "                         id  Clase   Dominio  P5000  P5010  P5090  P5100  \\\n",
       "0  8d0193e328305a042001a35f      1  MEDELLIN      4      2      1    NaN   \n",
       "1  cf7491d7f2cc9c216bd009e7      1  MEDELLIN      5      4      3    NaN   \n",
       "2  d90a57f64d2a84dbacbed2a5      1  MEDELLIN      4      2      1    NaN   \n",
       "3  db34e387a94a783188ab3a33      1  MEDELLIN      3      1      1    NaN   \n",
       "4  97bbef785824746ecab09c6f      1  MEDELLIN      4      3      3    NaN   \n",
       "\n",
       "      P5130     P5140  Nper  ...       Ingpcug             Li            Lp  \\\n",
       "0  400000.0       NaN     5  ...  5.816661e+05  122809.534158  289878.24715   \n",
       "1       NaN  250000.0     4  ...  1.612500e+05  122809.534158  289878.24715   \n",
       "2  700000.0       NaN     3  ...  2.000000e+06  122809.534158  289878.24715   \n",
       "3  450000.0       NaN     1  ...  2.450000e+06  122809.534158  289878.24715   \n",
       "4       NaN  500000.0     5  ...  2.520000e+05  122809.534158  289878.24715   \n",
       "\n",
       "   Pobre  Indigente  Npobres  Nindigentes       Fex_c  Depto    Fex_dpto  \n",
       "0      0          0        0            0  127.222038      5  146.251790  \n",
       "1      1          0        4            0  115.866093      5   93.080952  \n",
       "2      0          0        0            0  100.123276      5   89.637086  \n",
       "3      0          0        0            0  108.829812      5   95.584376  \n",
       "4      1          0        5            0  110.412859      5  124.560515  \n",
       "\n",
       "[5 rows x 23 columns]"
      ]
     },
     "execution_count": 7,
     "metadata": {},
     "output_type": "execute_result"
    }
   ],
   "source": [
    "# Train\n",
    "train_hogares = pd.read_csv(\"PS2/stores/train_hogares.csv\")\n",
    "train_hogares.head()"
   ]
  },
  {
   "cell_type": "code",
   "execution_count": 14,
   "id": "a7da38e8-a192-472b-95a8-fa6fc5e74b5b",
   "metadata": {},
   "outputs": [
    {
     "data": {
      "text/plain": [
       "Index(['id', 'Clase', 'Dominio', 'P5000', 'P5010', 'P5090', 'P5100', 'P5130',\n",
       "       'P5140', 'Nper', 'Npersug', 'Ingtotug', 'Ingtotugarr', 'Ingpcug', 'Li',\n",
       "       'Lp', 'Pobre', 'Indigente', 'Npobres', 'Nindigentes', 'Fex_c', 'Depto',\n",
       "       'Fex_dpto'],\n",
       "      dtype='object')"
      ]
     },
     "execution_count": 14,
     "metadata": {},
     "output_type": "execute_result"
    }
   ],
   "source": [
    "train_hogares.columns"
   ]
  },
  {
   "cell_type": "code",
   "execution_count": 73,
   "id": "a0a2a33e-dcfe-4bc0-9fb4-cc6bdbf0fd3b",
   "metadata": {},
   "outputs": [
    {
     "name": "stdout",
     "output_type": "stream",
     "text": [
      "Tipos de dato para cada columna:\n",
      "id              object\n",
      "Clase            int64\n",
      "Dominio         object\n",
      "P5000            int64\n",
      "P5010            int64\n",
      "P5090            int64\n",
      "P5100          float64\n",
      "P5130          float64\n",
      "P5140          float64\n",
      "Nper             int64\n",
      "Npersug          int64\n",
      "Ingtotug       float64\n",
      "Ingtotugarr    float64\n",
      "Ingpcug        float64\n",
      "Li             float64\n",
      "Lp             float64\n",
      "Pobre            int64\n",
      "Indigente        int64\n",
      "Npobres          int64\n",
      "Nindigentes      int64\n",
      "Fex_c          float64\n",
      "Depto            int64\n",
      "Fex_dpto       float64\n",
      "dtype: object\n",
      "\n",
      "Columnas de tipo string:\n",
      "Index(['id', 'Dominio'], dtype='object')\n"
     ]
    }
   ],
   "source": [
    "# Imprimir el tipo de dato para cada columna\n",
    "print(\"Tipos de dato para cada columna:\")\n",
    "print(train_hogares.dtypes)\n",
    "\n",
    "# Filtrar columnas que son de tipo string (object en pandas)\n",
    "string_columns = df.select_dtypes(include=['object']).columns\n",
    "\n",
    "# Imprimir las columnas de tipo string\n",
    "print(\"\\nColumnas de tipo string:\")\n",
    "print(string_columns)"
   ]
  },
  {
   "cell_type": "markdown",
   "id": "b14577af-b6de-4f0f-a033-0159f046ad8b",
   "metadata": {},
   "source": [
    "## Variables\n",
    "\n",
    "- `id`: primary key identificadora de vivienda, usada para conectar con las observacioens del dataset personas.\n",
    "- `Clase`: 1 si la encuesta es respondida por la persona \"cabecera\", 2 \"resto\". \n",
    "- `Dominio`: Cada una de las 24 divisiones administrativas.\n",
    "- `P5000`:  Incluyendo sala-comedor ¿de cuántos cuartos en total dispone este hogar?\n",
    "- `P5010`: ¿en cuántos de esos cuartos duermen las personas de este hogar?\n",
    "- `P5090`: La vivienda ocupada por este hogar es: propia/arriendo, etc\n",
    "- `P5100`: Si tiene crédito de vivienda, ¿cuánto pagan mensualmente por cuota de amortización?\n",
    "Cuando el informante declare que no sabe el valor de la cuota, escriba 98, si no informa el valor de la cuota, escriba en la línea de valor (99).\n",
    "- `P5130`: Si tuviera que pagar arriendo por esta vivienda, ¿cuánto estima que tendría que pagar mensualmente?\n",
    "Esta pregunta indaga sobre el estimativo del arriendo de las viviendas de los hogares propietarios, usufructuarios u ocupantes de hecho.\n",
    "Si no es posible obtener este valor o el informante no lo informa, escriba en la línea 99.\n",
    "- `P5140`: ¿cuánto pagan mensualmente por arriendo?\n",
    "no sabe o no informa, escriba en la línea el valor (99).si paga pero no quiere informar el valor del arriendo escriba sobre la línea de valor (98).\n",
    "\n",
    "- `Nper`: Número de personas en el hogar.\n",
    "- `Npersug`: Número de personas en la unidad de gasto.\n",
    "- `Ingtotug`: Ingreso total de la unidad de gasto antes de imputación de arriendos a propietarios y usufructuarios\n",
    "- `Ingtotugarr`: Ingreso total de la unidad de gasto con imputación de arriendo a propietarios y usufructuarios\n",
    "- `Ingpcug`: Ingreso percápita de la unidad de gasto con imputación de arriendo a propietarios y usufructuarios\n",
    "- `Li`: Valor de la canasta básica de alimentos que establece el límite de ingresos por debajo del cual un hogar es considerado en pobreza extrema.\n",
    "- `Lp`: Valor de la canasta básica de bienes que establece el límite de ingresos por debajo del cual un hogar es considerado en pobreza.\n",
    "- `Pobre`: Variable que idenfifica los hogares en condiciones de pobreza. Target. Pobre=1 No pobre=0\n",
    "20% pobres\n",
    "- `Indigente`: Variable que idenfifica los hogares en condiciones de pobreza extrema. 4.5% idigentes\n",
    "- `Npobres`: Número de personas en hogares clasificados como pobres.\n",
    "- `Nindigentes`: Número de personas en hogares clasificados en pobreza extrema.\n",
    "- `Fex_c`: Factor de expansión.\n",
    "- `Depto`: Variable categórica que identifica el departamento, ya codificada.\n",
    "- `Fex_dpto`: Factor Expansión departamental.\n",
    "\n"
   ]
  },
  {
   "cell_type": "markdown",
   "id": "12c95834-7013-41c5-a7b7-1f5ed4ffa127",
   "metadata": {
    "jp-MarkdownHeadingCollapsed": true
   },
   "source": [
    "### Target"
   ]
  },
  {
   "cell_type": "code",
   "execution_count": 65,
   "id": "f337da41-aaec-4814-b321-d78c4f7fd678",
   "metadata": {},
   "outputs": [
    {
     "data": {
      "text/html": [
       "<div>\n",
       "<style scoped>\n",
       "    .dataframe tbody tr th:only-of-type {\n",
       "        vertical-align: middle;\n",
       "    }\n",
       "\n",
       "    .dataframe tbody tr th {\n",
       "        vertical-align: top;\n",
       "    }\n",
       "\n",
       "    .dataframe thead th {\n",
       "        text-align: right;\n",
       "    }\n",
       "</style>\n",
       "<table border=\"1\" class=\"dataframe\">\n",
       "  <thead>\n",
       "    <tr style=\"text-align: right;\">\n",
       "      <th></th>\n",
       "      <th>Categoría</th>\n",
       "      <th>Frecuencia</th>\n",
       "      <th>Porcentaje</th>\n",
       "    </tr>\n",
       "  </thead>\n",
       "  <tbody>\n",
       "    <tr>\n",
       "      <th>0</th>\n",
       "      <td>Pobre</td>\n",
       "      <td>33024</td>\n",
       "      <td>20.02</td>\n",
       "    </tr>\n",
       "    <tr>\n",
       "      <th>1</th>\n",
       "      <td>Indigente</td>\n",
       "      <td>7960</td>\n",
       "      <td>4.83</td>\n",
       "    </tr>\n",
       "  </tbody>\n",
       "</table>\n",
       "</div>"
      ],
      "text/plain": [
       "   Categoría  Frecuencia  Porcentaje\n",
       "0      Pobre       33024       20.02\n",
       "1  Indigente        7960        4.83"
      ]
     },
     "execution_count": 65,
     "metadata": {},
     "output_type": "execute_result"
    }
   ],
   "source": [
    "# Calcular la frecuencia de \"Pobre\" igual a 1 e \"Indigente\" igual a 1\n",
    "frecuencia_pobre = train_hogares[train_hogares['Pobre'] == 1].shape[0]\n",
    "frecuencia_indigente = train_hogares[train_hogares['Indigente'] == 1].shape[0]\n",
    "\n",
    "# Calcular el porcentaje redondeado a dos decimales\n",
    "porcentaje_pobre = round((frecuencia_pobre / train_hogares.shape[0]) * 100, 2)\n",
    "porcentaje_indigente = round((frecuencia_indigente / train_hogares.shape[0]) * 100, 2)\n",
    "\n",
    "# Crear el dataframe con los resultados\n",
    "tabla_resumen = pd.DataFrame({\n",
    "    'Categoría': ['Pobre', 'Indigente'],\n",
    "    'Frecuencia': [frecuencia_pobre, frecuencia_indigente],\n",
    "    'Porcentaje': [porcentaje_pobre, porcentaje_indigente]\n",
    "})\n",
    "\n",
    "# Mostrar la tabla\n",
    "tabla_resumen"
   ]
  },
  {
   "cell_type": "markdown",
   "id": "26328ed3-c407-4bd4-b09f-361fd48cb8b8",
   "metadata": {
    "jp-MarkdownHeadingCollapsed": true
   },
   "source": [
    "### Geográficas"
   ]
  },
  {
   "cell_type": "markdown",
   "id": "2b9e8722-909c-453c-82a9-7447c6064560",
   "metadata": {},
   "source": [
    "Se puede observar que cada Dominio corresponde a un Departamento. Exceptuando RESTO URBANO y RURAL, los cuales como bien su nombre lo indica, corresponden a zonas urbanas y rurales respectivamente, presentes claro está en todos los departamentos.\n",
    "\n",
    "No se debería excluir Depto porque, por ejemplo, zona rural de Medellin se diferencia con la zona rural de Cali por la combinación de variable Depto-Dominio. Incluso, podría crearse una variable procedente de la combinación de las mismas, para reemplazar las dos variables anteriores.\n",
    "\n",
    "Así mismo, no se debería excluir Dominio, dado que aporta una variabilidad entre ciudad-resto urbano-rural, que si se eliminase, desaparecería."
   ]
  },
  {
   "cell_type": "code",
   "execution_count": 27,
   "id": "f9ab9335-bf68-4857-9dc1-62f0912a6f5d",
   "metadata": {},
   "outputs": [
    {
     "data": {
      "text/html": [
       "<div>\n",
       "<style scoped>\n",
       "    .dataframe tbody tr th:only-of-type {\n",
       "        vertical-align: middle;\n",
       "    }\n",
       "\n",
       "    .dataframe tbody tr th {\n",
       "        vertical-align: top;\n",
       "    }\n",
       "\n",
       "    .dataframe thead th {\n",
       "        text-align: right;\n",
       "    }\n",
       "</style>\n",
       "<table border=\"1\" class=\"dataframe\">\n",
       "  <thead>\n",
       "    <tr style=\"text-align: right;\">\n",
       "      <th></th>\n",
       "      <th>Dominio</th>\n",
       "      <th>Depto</th>\n",
       "    </tr>\n",
       "  </thead>\n",
       "  <tbody>\n",
       "    <tr>\n",
       "      <th>1975</th>\n",
       "      <td>ARMENIA</td>\n",
       "      <td>63</td>\n",
       "    </tr>\n",
       "    <tr>\n",
       "      <th>178</th>\n",
       "      <td>BARRANQUILLA</td>\n",
       "      <td>8</td>\n",
       "    </tr>\n",
       "    <tr>\n",
       "      <th>316</th>\n",
       "      <td>BOGOTA</td>\n",
       "      <td>11</td>\n",
       "    </tr>\n",
       "    <tr>\n",
       "      <th>2206</th>\n",
       "      <td>BUCARAMANGA</td>\n",
       "      <td>68</td>\n",
       "    </tr>\n",
       "    <tr>\n",
       "      <th>2508</th>\n",
       "      <td>CALI</td>\n",
       "      <td>76</td>\n",
       "    </tr>\n",
       "    <tr>\n",
       "      <th>...</th>\n",
       "      <td>...</td>\n",
       "      <td>...</td>\n",
       "    </tr>\n",
       "    <tr>\n",
       "      <th>1548</th>\n",
       "      <td>SANTA MARTA</td>\n",
       "      <td>47</td>\n",
       "    </tr>\n",
       "    <tr>\n",
       "      <th>2305</th>\n",
       "      <td>SINCELEJO</td>\n",
       "      <td>70</td>\n",
       "    </tr>\n",
       "    <tr>\n",
       "      <th>614</th>\n",
       "      <td>TUNJA</td>\n",
       "      <td>15</td>\n",
       "    </tr>\n",
       "    <tr>\n",
       "      <th>1035</th>\n",
       "      <td>VALLEDUPAR</td>\n",
       "      <td>20</td>\n",
       "    </tr>\n",
       "    <tr>\n",
       "      <th>1664</th>\n",
       "      <td>VILLAVICENCIO</td>\n",
       "      <td>50</td>\n",
       "    </tr>\n",
       "  </tbody>\n",
       "</table>\n",
       "<p>69 rows × 2 columns</p>\n",
       "</div>"
      ],
      "text/plain": [
       "            Dominio  Depto\n",
       "1975        ARMENIA     63\n",
       "178    BARRANQUILLA      8\n",
       "316          BOGOTA     11\n",
       "2206    BUCARAMANGA     68\n",
       "2508           CALI     76\n",
       "...             ...    ...\n",
       "1548    SANTA MARTA     47\n",
       "2305      SINCELEJO     70\n",
       "614           TUNJA     15\n",
       "1035     VALLEDUPAR     20\n",
       "1664  VILLAVICENCIO     50\n",
       "\n",
       "[69 rows x 2 columns]"
      ]
     },
     "execution_count": 27,
     "metadata": {},
     "output_type": "execute_result"
    }
   ],
   "source": [
    "#verificar si las columnas `Dominio` y `Depto` están relacionadas\n",
    "combinaciones = train_hogares[['Dominio', 'Depto']].drop_duplicates().sort_values('Dominio')\n",
    "combinaciones"
   ]
  },
  {
   "cell_type": "code",
   "execution_count": 19,
   "id": "bf072684-7902-4458-a34a-62312f5f63bb",
   "metadata": {},
   "outputs": [
    {
     "name": "stdout",
     "output_type": "stream",
     "text": [
      "Dominio\n",
      "ARMENIA           1\n",
      "BARRANQUILLA      1\n",
      "BOGOTA            1\n",
      "BUCARAMANGA       1\n",
      "CALI              1\n",
      "CARTAGENA         1\n",
      "CUCUTA            1\n",
      "FLORENCIA         1\n",
      "IBAGUE            1\n",
      "MANIZALES         1\n",
      "MEDELLIN          1\n",
      "MONTERIA          1\n",
      "NEIVA             1\n",
      "PASTO             1\n",
      "PEREIRA           1\n",
      "POPAYAN           1\n",
      "QUIBDO            1\n",
      "RESTO URBANO     23\n",
      "RIOHACHA          1\n",
      "RURAL            23\n",
      "SANTA MARTA       1\n",
      "SINCELEJO         1\n",
      "TUNJA             1\n",
      "VALLEDUPAR        1\n",
      "VILLAVICENCIO     1\n",
      "Name: Depto, dtype: int64\n",
      "Depto\n",
      "5     3\n",
      "8     3\n",
      "11    1\n",
      "13    3\n",
      "15    3\n",
      "17    3\n",
      "18    3\n",
      "19    3\n",
      "20    3\n",
      "23    3\n",
      "25    2\n",
      "27    3\n",
      "41    3\n",
      "44    3\n",
      "47    3\n",
      "50    3\n",
      "52    3\n",
      "54    3\n",
      "63    3\n",
      "66    3\n",
      "68    3\n",
      "70    3\n",
      "73    3\n",
      "76    3\n",
      "Name: Dominio, dtype: int64\n"
     ]
    }
   ],
   "source": [
    "# Verificar si un valor de 'Dominio' se asocia con múltiples valores de 'Depto'\n",
    "domin_depto = train_hogares.groupby('Dominio')['Depto'].nunique()\n",
    "print(domin_depto)\n",
    "\n",
    "# Verificar si un valor de 'Depto' se asocia con múltiples valores de 'Dominio'\n",
    "depto_domin = train_hogares.groupby('Depto')['Dominio'].nunique()\n",
    "print(depto_domin)\n"
   ]
  },
  {
   "cell_type": "code",
   "execution_count": 23,
   "id": "ac089e0b-cbbf-4d71-a49e-58ed5ec5d9c8",
   "metadata": {},
   "outputs": [
    {
     "name": "stdout",
     "output_type": "stream",
     "text": [
      "         Dominio  Depto  Frecuencia\n",
      "2         BOGOTA     11       10567\n",
      "10      MEDELLIN      5        8921\n",
      "4           CALI     76        6666\n",
      "1   BARRANQUILLA      8        6568\n",
      "9      MANIZALES     17        6108\n",
      "..           ...    ...         ...\n",
      "28  RESTO URBANO     41         504\n",
      "48         RURAL     20         450\n",
      "25  RESTO URBANO     23         442\n",
      "58         RURAL     63         380\n",
      "42         RURAL      8         188\n",
      "\n",
      "[69 rows x 3 columns]\n"
     ]
    }
   ],
   "source": [
    "# Ver combinaciones de 'Dominio' y 'Depto' con su frecuencia\n",
    "combinaciones_frecuentes = train_hogares.groupby(['Dominio', 'Depto']).size().reset_index(name='Frecuencia')\n",
    "print(combinaciones_frecuentes.sort_values('Frecuencia', ascending=False))"
   ]
  },
  {
   "cell_type": "code",
   "execution_count": 26,
   "id": "5daf9309-c672-4c07-b2d1-0f62531fa31c",
   "metadata": {},
   "outputs": [
    {
     "name": "stdout",
     "output_type": "stream",
     "text": [
      "  Depto                        Dominio\n",
      "0     5  MEDELLIN, RURAL, RESTO URBANO\n",
      "1    76      CALI, RESTO URBANO, RURAL\n"
     ]
    }
   ],
   "source": [
    "import pandas as pd\n",
    "\n",
    "# Filtrar el DataFrame por 'Depto' igual a 5\n",
    "filtro_depto_5 = train_hogares[train_hogares['Depto'] == 5]\n",
    "dominio_unicos_5 = filtro_depto_5['Dominio'].unique()\n",
    "\n",
    "# Filtrar el DataFrame por 'Depto' igual a 76\n",
    "filtro_depto_76 = train_hogares[train_hogares['Depto'] == 76]\n",
    "dominio_unicos_76 = filtro_depto_76['Dominio'].unique()\n",
    "\n",
    "# Crear un DataFrame con los resultados\n",
    "data = {\n",
    "    'Depto': ['5', '76'],\n",
    "    'Dominio': [', '.join(dominio_unicos_5), ', '.join(dominio_unicos_76)]\n",
    "}\n",
    "\n",
    "result_df = pd.DataFrame(data)\n",
    "\n",
    "# Mostrar el DataFrame\n",
    "print(result_df)\n"
   ]
  },
  {
   "cell_type": "markdown",
   "id": "93b37531-f86c-4f14-99d7-3b834c92efd1",
   "metadata": {
    "jp-MarkdownHeadingCollapsed": true
   },
   "source": [
    "### Ingreso"
   ]
  },
  {
   "cell_type": "markdown",
   "id": "7601039e-3055-4f9e-a231-359103fcdb68",
   "metadata": {},
   "source": [
    "#### Ingresos y Líneas de Pobreza e Indigencia"
   ]
  },
  {
   "cell_type": "markdown",
   "id": "38f6bd3e-bb66-4553-ba05-5ae02e134a2a",
   "metadata": {},
   "source": [
    "Se puede indicar que, dadas las tres variables de ingresos:\n",
    "\n",
    "- `Ingtotug`: Ingreso total de la unidad de gasto antes de imputación de arriendos a propietarios y usufructuarios\n",
    "- `Ingtotugarr`: Ingreso total de la unidad de gasto con imputación de arriendo a propietarios y usufructuarios\n",
    "- `Ingpcug`: Ingreso percápita de la unidad de gasto con imputación de arriendo a propietarios y usufructuarios\n",
    "\n",
    "y considerando las Líneas de Pobreza `Lp` e Indigencia `Li`, parece ser que `Ingtotug` es la variable utilizada para crear las variables binarias `Pobre` e `Indigente`."
   ]
  },
  {
   "cell_type": "code",
   "execution_count": 40,
   "id": "7d3f730c-a2a4-4b79-a248-4dc8fc2e4145",
   "metadata": {},
   "outputs": [
    {
     "name": "stdout",
     "output_type": "stream",
     "text": [
      "Hay 1758 casos donde Ingtotug < Lp pero Pobre no es igual a 1.\n",
      "             Ingtotug    Ingtotugarr             Lp  Pobre\n",
      "39       45000.000000  395000.000000  289878.247150      0\n",
      "83       83333.333333  583333.333333  289878.247150      0\n",
      "337      60000.000000  860000.000000  273978.808652      0\n",
      "354          0.000000  800000.000000  273978.808652      0\n",
      "681     220000.000000  570000.000000  271912.549708      0\n",
      "...               ...            ...            ...    ...\n",
      "164582  240000.000000  340000.000000  286810.818838      0\n",
      "164612   12500.000000  412500.000000  284157.853036      0\n",
      "164620  141666.666667  741666.666667  284157.853036      0\n",
      "164644  225000.000000  375000.000000  280234.432107      0\n",
      "164948  220000.000000  620000.000000  284202.607354      0\n",
      "\n",
      "[1758 rows x 4 columns]\n"
     ]
    }
   ],
   "source": [
    "# Filtrar las filas donde Ingtotug < Lp\n",
    "condicion = train_hogares[train_hogares['Ingtotug'] < train_hogares['Lp']]\n",
    "\n",
    "# Verificar si Pobre es igual a 1 en esas filas\n",
    "resultado = condicion[condicion['Pobre'] != 1]\n",
    "\n",
    "# Mostrar el resultado\n",
    "if resultado.empty:\n",
    "    print(\"La condición se cumple: Ingtotug < Lp implica Pobre = 1 en todos los casos.\")\n",
    "else:\n",
    "    print(f\"Hay {len(resultado)} casos donde Ingtotug < Lp pero Pobre no es igual a 1.\")\n",
    "    print(resultado[['Ingtotug', 'Ingtotugarr','Lp', 'Pobre']])"
   ]
  },
  {
   "cell_type": "code",
   "execution_count": 41,
   "id": "be719d4a-a446-412c-9c44-6ace0753e901",
   "metadata": {},
   "outputs": [
    {
     "name": "stdout",
     "output_type": "stream",
     "text": [
      "La condición se cumple: Ingtotugarr < Lp implica Pobre = 1 en todos los casos.\n"
     ]
    }
   ],
   "source": [
    "# Filtrar las filas donde Ingtotugarr < Lp\n",
    "condicion = train_hogares[train_hogares['Ingtotugarr'] < train_hogares['Lp']]\n",
    "\n",
    "# Verificar si Pobre es igual a 1 en esas filas\n",
    "resultado = condicion[condicion['Pobre'] != 1]\n",
    "\n",
    "# Mostrar el resultado\n",
    "if resultado.empty:\n",
    "    print(\"La condición se cumple: Ingtotugarr < Lp implica Pobre = 1 en todos los casos.\")\n",
    "else:\n",
    "    print(f\"Hay {len(resultado)} casos donde Ingtotug < Lp pero Pobre no es igual a 1.\")\n",
    "    print(resultado[['Ingtotug', 'Ingtotugarr','Lp', 'Pobre']])"
   ]
  },
  {
   "cell_type": "code",
   "execution_count": 39,
   "id": "0d0aa43b-2b04-403e-b317-3ba4d7d482c3",
   "metadata": {},
   "outputs": [
    {
     "name": "stdout",
     "output_type": "stream",
     "text": [
      "La condición se cumple: Ingtotugarr < Li implica Indigente = 1 en todos los casos.\n"
     ]
    }
   ],
   "source": [
    "# Filtrar las filas donde Ingtotugarr < Li\n",
    "condicion = train_hogares[train_hogares['Ingtotugarr'] < train_hogares['Li']]\n",
    "\n",
    "# Verificar si Indigente es igual a 1 en esas filas\n",
    "resultado = condicion[condicion['Indigente'] != 1]\n",
    "\n",
    "# Mostrar el resultado\n",
    "if resultado.empty:\n",
    "    print(\"La condición se cumple: Ingtotugarr < Li implica Indigente = 1 en todos los casos.\")\n",
    "else:\n",
    "    print(f\"Hay {len(resultado)} casos donde Ingtotugarr < Li pero Indigente no es igual a 1.\")\n",
    "    print(resultado[['Ingtotugarr', 'Li', 'Indigente']])\n"
   ]
  },
  {
   "cell_type": "markdown",
   "id": "493bc1dc-1ad8-4db7-bdd7-d4a2c0961f67",
   "metadata": {},
   "source": [
    "#### Cantidad de Pobres e Indigentes"
   ]
  },
  {
   "cell_type": "markdown",
   "id": "1f582c09-e42f-4ba4-8e25-1d5e050983f5",
   "metadata": {},
   "source": [
    "dadas las definiciones:\n",
    "\n",
    "- `Npobres`: Número de personas en hogares clasificados como pobres.\n",
    "- `Nindigentes`: Número de personas en hogares clasificados en pobreza extrema.\n",
    "\n",
    "y \n",
    "\n",
    "- `Nper`: Número de personas en el hogar.\n",
    "- `Npersug`: Número de personas en la unidad de gasto."
   ]
  },
  {
   "cell_type": "markdown",
   "id": "309859f9-92e8-4f18-acb8-2824465dc832",
   "metadata": {},
   "source": [
    "Conclusiones:\n",
    "* En un Hogar puede haber una o +1 Unidades de Gasto, pero no al contrario.\n",
    "* Pobreza e Indigencia se miden a nivel de Hogar y no de Unidad de Gasto."
   ]
  },
  {
   "cell_type": "markdown",
   "id": "83bd1eee-948f-43a2-b33b-b70a355af5d4",
   "metadata": {},
   "source": []
  },
  {
   "cell_type": "markdown",
   "id": "54e8b9ef-4f25-41cc-ba92-0566355abac4",
   "metadata": {},
   "source": [
    "La unidad de gasto (que podría ser un subconjunto de personas dentro del hogar) debería tener siempre un número de personas menor o igual al número total de personas en el hogar. Esto se debe a que la unidad de gasto es una división dentro del hogar y, por tanto, el número de personas en la unidad de gasto nunca debería ser mayor que el número total de personas en el hogar."
   ]
  },
  {
   "cell_type": "code",
   "execution_count": 59,
   "id": "bb8e7270-ba41-49b3-8540-eacbed993622",
   "metadata": {},
   "outputs": [
    {
     "name": "stdout",
     "output_type": "stream",
     "text": [
      "El número de personas en la unidad de gasto (Npersug) es siempre un subconjunto de el número de personas en el hogar (Nper).\n"
     ]
    }
   ],
   "source": [
    "# Filtrar filas donde Npersug es mayor que Nper\n",
    "resultado = train_hogares[train_hogares['Npersug'] > train_hogares['Nper']]\n",
    "\n",
    "# Mostrar los resultados\n",
    "if resultado.empty:\n",
    "    print(\"El número de personas en la unidad de gasto (Npersug) es siempre un subconjunto de el número de personas en el hogar (Nper).\")\n",
    "else:\n",
    "    print(f\"Hay {len(resultado)} casos donde Npersug es mayor que Nper.\")\n",
    "    print(resultado[['Npersug', 'Nper']])\n"
   ]
  },
  {
   "cell_type": "code",
   "execution_count": 44,
   "id": "46825e34-c345-47bd-a272-aa38ca0ef9bc",
   "metadata": {},
   "outputs": [
    {
     "name": "stdout",
     "output_type": "stream",
     "text": [
      "La condición se cumple: Npobres es igual a Nper en todos los casos.\n",
      "La condición se cumple: Nindigentes es igual a Nper en todos los casos.\n"
     ]
    }
   ],
   "source": [
    "# Filtrar filas donde Npobres y Nindigentes son diferentes de cero\n",
    "condicion = train_hogares[(train_hogares['Npobres'] != 0) & (train_hogares['Nindigentes'] != 0)]\n",
    "\n",
    "# Verificar si Npobres es igual a Nper en esas filas\n",
    "resultado_npobres = condicion[condicion['Npobres'] != condicion['Nper']]\n",
    "\n",
    "# Verificar si Nindigentes es igual a Nper en esas filas\n",
    "resultado_nindigentes = condicion[condicion['Nindigentes'] != condicion['Nper']]\n",
    "\n",
    "# Mostrar los resultados\n",
    "if resultado_npobres.empty:\n",
    "    print(\"La condición se cumple: Npobres es igual a Nper en todos los casos.\")\n",
    "else:\n",
    "    print(f\"Hay {len(resultado_npobres)} casos donde Npobres es diferente de Nper.\")\n",
    "    print(resultado_npobres[['Npobres', 'Nper', 'Nindigentes', 'Nper']])\n",
    "\n",
    "if resultado_nindigentes.empty:\n",
    "    print(\"La condición se cumple: Nindigentes es igual a Nper en todos los casos.\")\n",
    "else:\n",
    "    print(f\"Hay {len(resultado_nindigentes)} casos donde Nindigentes es diferente de Nper.\")\n",
    "    print(resultado_nindigentes[['Npobres', 'Nindigentes', 'Nper', 'Npersug']])\n"
   ]
  },
  {
   "cell_type": "code",
   "execution_count": 60,
   "id": "32c7ac0b-af44-4d2d-a0ce-e9311409acc3",
   "metadata": {},
   "outputs": [
    {
     "name": "stdout",
     "output_type": "stream",
     "text": [
      "Hay 21 casos donde Npobres es diferente de Npersug.\n",
      "Hay 21 casos donde Nindigentes es diferente de Npersug.\n"
     ]
    }
   ],
   "source": [
    "# Filtrar filas donde Npobres y Nindigentes son diferentes de cero\n",
    "condicion = train_hogares[(train_hogares['Npobres'] != 0) & (train_hogares['Nindigentes'] != 0)]\n",
    "\n",
    "# Verificar si Npobres es igual a Npersug en esas filas\n",
    "resultado_npobres = condicion[condicion['Npobres'] != condicion['Npersug']]\n",
    "\n",
    "# Verificar si Nindigentes es igual a Npersug en esas filas\n",
    "resultado_nindigentes = condicion[condicion['Nindigentes'] != condicion['Npersug']]\n",
    "\n",
    "# Mostrar los resultados\n",
    "if resultado_npobres.empty:\n",
    "    print(\"La condición se cumple: Npobres es igual a Npersug en todos los casos.\")\n",
    "else:\n",
    "    print(f\"Hay {len(resultado_npobres)} casos donde Npobres es diferente de Npersug.\")\n",
    "    #print(resultado_npobres[[ 'Npersug', 'Nper', 'Npobres','Nindigentes']])\n",
    "\n",
    "if resultado_nindigentes.empty:\n",
    "    print(\"La condición se cumple: Nindigentes es igual a Npersug en todos los casos.\")\n",
    "else:\n",
    "    print(f\"Hay {len(resultado_nindigentes)} casos donde Nindigentes es diferente de Npersug.\")\n",
    "    #print(resultado_nindigentes[['Npobres', 'Nindigentes', 'Nper', 'Npersug']])\n"
   ]
  },
  {
   "cell_type": "markdown",
   "id": "d65da170-5188-4638-8d9d-9cc564c31ee2",
   "metadata": {},
   "source": [
    "## Variables despreciables"
   ]
  },
  {
   "cell_type": "markdown",
   "id": "0a4604db-79ef-4d71-9fb0-69647450a505",
   "metadata": {},
   "source": [
    "Dado que los factores de expansión (`Fex_c` y `Fex_dpto`) son utilizados para ajustar los resultados de la muestra a la población total y no contienen información sobre las características del hogar o las personas, no tienen relevancia para predecir si un hogar es pobre o no. En consecuencia, no deben ser incluidos en el modelo predictivo, ya que podrían agregar ruido innecesario y disminuir la capacidad del modelo para identificar patrones verdaderamente relevantes."
   ]
  },
  {
   "cell_type": "markdown",
   "id": "432e647b-be9f-41d6-937e-1b77032bc73e",
   "metadata": {},
   "source": [
    "La cantidad de pobres e indigentes (`Npobres` y `Nindigentes` ) deben ser eliminadas del modelo porque son el resultado de la clasificación de pobreza y pobreza extrema, que es exactamente lo que estamos tratando de predecir. Incluir estas variables en el modelo introduciría redundancia y podría generar fugas de información (*data leakage*), lo que afectaría negativamente la capacidad del modelo para generalizar a datos no vistos."
   ]
  },
  {
   "cell_type": "markdown",
   "id": "d274b810-f86c-47e2-bee4-68540820475a",
   "metadata": {},
   "source": [
    "## Missing Values"
   ]
  },
  {
   "cell_type": "code",
   "execution_count": null,
   "id": "36c556e4-8788-48c5-8edd-273526650910",
   "metadata": {},
   "outputs": [],
   "source": [
    "### valores 98 y 99 de ingresos"
   ]
  },
  {
   "cell_type": "code",
   "execution_count": null,
   "id": "fd32eedc-c21a-46a7-97f2-75da6b10af57",
   "metadata": {},
   "outputs": [],
   "source": []
  },
  {
   "cell_type": "code",
   "execution_count": null,
   "id": "1daecaa9-421d-4076-8f27-a4c6ccb98bfb",
   "metadata": {},
   "outputs": [],
   "source": []
  },
  {
   "cell_type": "markdown",
   "id": "66497683-bd92-4f46-9ea9-248b9a465820",
   "metadata": {},
   "source": [
    "## Template de output"
   ]
  },
  {
   "cell_type": "code",
   "execution_count": 74,
   "id": "c7cf07ef-51ad-46f3-b8e6-e28407e5ec87",
   "metadata": {},
   "outputs": [
    {
     "name": "stdout",
     "output_type": "stream",
     "text": [
      "                             id  pobre\n",
      "0      2a7ddc2779480d7f19834953      0\n",
      "1      a0c2e751e582fd49d564f308      0\n",
      "2      57273d19e8464a5ff66a582b      1\n",
      "3      418d052ff7878940ab938601      0\n",
      "4      212a37fc17016a3c78f76852      1\n",
      "...                         ...    ...\n",
      "66163  e7d3c7cc62acd33867b7b7ee      0\n",
      "66164  710db9f02de9c616f846c72e      0\n",
      "66165  5a0d6b6fad06e4736fb6d95f      0\n",
      "66166  569496964b70185785b57789      1\n",
      "66167  225c4a98fcfad97cf4b08d0f      0\n",
      "\n",
      "[66168 rows x 2 columns]\n"
     ]
    }
   ],
   "source": [
    "sample_submission = pd.read_csv(\"PS2/stores/sample_submission.csv\")\n",
    "print(sample_submission)"
   ]
  },
  {
   "cell_type": "markdown",
   "id": "e9ef683d-6717-4167-b7d0-d341757002e6",
   "metadata": {},
   "source": [
    "### Test tiene menos columnas que Train"
   ]
  },
  {
   "cell_type": "code",
   "execution_count": 12,
   "id": "3b465886-df38-488d-86c3-c0f055099b5e",
   "metadata": {},
   "outputs": [],
   "source": [
    "test_hogares = pd.read_csv(\"PS2/stores/test_hogares.csv\")"
   ]
  },
  {
   "cell_type": "code",
   "execution_count": 11,
   "id": "c67f404f-db57-4840-a4d3-0e25b5bd89c6",
   "metadata": {},
   "outputs": [
    {
     "name": "stdout",
     "output_type": "stream",
     "text": [
      "Columnas a imputar: ['P5140', 'P5130', 'P5100']\n"
     ]
    }
   ],
   "source": [
    "# Identificar las columnas con valores faltantes en X_train y test_hogares\n",
    "missing_train_cols = train_hogares.columns[train_hogares.isnull().sum() > 0]\n",
    "missing_test_cols = test_hogares.columns[test_hogares.isnull().sum() > 0]\n",
    "\n",
    "# Asegurarse de que las columnas con valores faltantes estén presentes en ambos datasets\n",
    "columns_to_impute = list(set(missing_train_cols).union(set(missing_test_cols)))\n",
    "\n",
    "# Mostrar las columnas que serán imputadas\n",
    "print(f\"Columnas a imputar: {columns_to_impute}\")"
   ]
  },
  {
   "cell_type": "code",
   "execution_count": 13,
   "id": "8570bf6a-a4ee-4e04-97d3-eb05b92110c6",
   "metadata": {},
   "outputs": [
    {
     "data": {
      "text/plain": [
       "set()"
      ]
     },
     "execution_count": 13,
     "metadata": {},
     "output_type": "execute_result"
    }
   ],
   "source": [
    "set(test_hogares.columns) - set(train_hogares.columns)"
   ]
  },
  {
   "cell_type": "code",
   "execution_count": 14,
   "id": "eb7f035e-e8f7-4596-b603-240038dce0b2",
   "metadata": {},
   "outputs": [
    {
     "data": {
      "text/plain": [
       "{'Indigente',\n",
       " 'Ingpcug',\n",
       " 'Ingtotug',\n",
       " 'Ingtotugarr',\n",
       " 'Nindigentes',\n",
       " 'Npobres',\n",
       " 'Pobre'}"
      ]
     },
     "execution_count": 14,
     "metadata": {},
     "output_type": "execute_result"
    }
   ],
   "source": [
    "set(train_hogares.columns) - set(test_hogares.columns)"
   ]
  }
 ],
 "metadata": {
  "kernelspec": {
   "display_name": "Python 3 (ipykernel)",
   "language": "python",
   "name": "python3"
  },
  "language_info": {
   "codemirror_mode": {
    "name": "ipython",
    "version": 3
   },
   "file_extension": ".py",
   "mimetype": "text/x-python",
   "name": "python",
   "nbconvert_exporter": "python",
   "pygments_lexer": "ipython3",
   "version": "3.12.4"
  }
 },
 "nbformat": 4,
 "nbformat_minor": 5
}
