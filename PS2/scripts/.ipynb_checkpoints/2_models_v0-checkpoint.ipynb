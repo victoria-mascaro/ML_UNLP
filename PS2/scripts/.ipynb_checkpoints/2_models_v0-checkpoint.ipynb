{
 "cells": [
  {
   "cell_type": "code",
   "execution_count": 1,
   "id": "0a912749-c3e8-425c-b696-6bb97204e20c",
   "metadata": {},
   "outputs": [],
   "source": [
    "# Librerías básicas para manipulación y análisis de datos\n",
    "import os\n",
    "import pandas as pd\n",
    "import numpy as np\n",
    "\n",
    "# Librerías para visualización\n",
    "import matplotlib.pyplot as plt\n",
    "import seaborn as sns\n",
    "\n",
    "# Librerías para preprocesamiento y evaluación\n",
    "from sklearn.impute import KNNImputer\n",
    "from sklearn.preprocessing import MinMaxScaler\n",
    "from sklearn.model_selection import train_test_split\n",
    "from sklearn.preprocessing import StandardScaler, LabelEncoder\n",
    "from sklearn.metrics import classification_report, confusion_matrix, mean_squared_error\n",
    "\n",
    "# Modelos (regresión y clasificación)\n",
    "from sklearn.linear_model import LinearRegression, ElasticNet, LogisticRegression\n",
    "from sklearn.tree import DecisionTreeClassifier\n",
    "from sklearn.ensemble import RandomForestClassifier, GradientBoostingClassifier\n",
    "from sklearn.neural_network import MLPClassifier\n",
    "\n",
    "# Otras utilidades\n",
    "import warnings\n",
    "warnings.filterwarnings(\"ignore\")"
   ]
  },
  {
   "cell_type": "code",
   "execution_count": 2,
   "id": "218067d5-ed79-4ee7-8094-c362faea600e",
   "metadata": {},
   "outputs": [
    {
     "data": {
      "text/plain": [
       "'C:\\\\Users\\\\vmascaro\\\\Desktop\\\\UNLP\\\\Machine_Learning\\\\ML_UNLP\\\\PS2\\\\scripts'"
      ]
     },
     "execution_count": 2,
     "metadata": {},
     "output_type": "execute_result"
    }
   ],
   "source": [
    "## Objetivo: dejar paths relativos, y asegurar reproducibilidad\n",
    "# Obtener el directorio actual\n",
    "current_dir = os.getcwd()\n",
    "current_dir"
   ]
  },
  {
   "cell_type": "code",
   "execution_count": 3,
   "id": "c101aa93-64b2-4858-aaab-2783fc13408c",
   "metadata": {},
   "outputs": [
    {
     "name": "stdout",
     "output_type": "stream",
     "text": [
      "Directorio actual: C:\\Users\\vmascaro\\Desktop\\UNLP\\Machine_Learning\\ML_UNLP\n"
     ]
    }
   ],
   "source": [
    "# Buscar el directorio 'ML_UNLP' en el path\n",
    "repo_dir = os.path.abspath(os.path.join(current_dir, '../../'))\n",
    "\n",
    "# Cambiar al directorio ML_UNLP\n",
    "os.chdir(repo_dir)\n",
    "\n",
    "# Verificar que se cambió al directorio correcto\n",
    "print(\"Directorio actual:\", os.getcwd())"
   ]
  },
  {
   "cell_type": "markdown",
   "id": "2745e20b-d804-482b-8773-281db6795505",
   "metadata": {},
   "source": [
    "## Carga de Datos"
   ]
  },
  {
   "cell_type": "code",
   "execution_count": 4,
   "id": "ead032ce-7fc4-45fe-9828-f0f7d18d60d9",
   "metadata": {},
   "outputs": [
    {
     "data": {
      "text/html": [
       "<div>\n",
       "<style scoped>\n",
       "    .dataframe tbody tr th:only-of-type {\n",
       "        vertical-align: middle;\n",
       "    }\n",
       "\n",
       "    .dataframe tbody tr th {\n",
       "        vertical-align: top;\n",
       "    }\n",
       "\n",
       "    .dataframe thead th {\n",
       "        text-align: right;\n",
       "    }\n",
       "</style>\n",
       "<table border=\"1\" class=\"dataframe\">\n",
       "  <thead>\n",
       "    <tr style=\"text-align: right;\">\n",
       "      <th></th>\n",
       "      <th>id</th>\n",
       "      <th>Clase</th>\n",
       "      <th>Dominio</th>\n",
       "      <th>P5000</th>\n",
       "      <th>P5010</th>\n",
       "      <th>P5090</th>\n",
       "      <th>P5100</th>\n",
       "      <th>P5130</th>\n",
       "      <th>P5140</th>\n",
       "      <th>Nper</th>\n",
       "      <th>...</th>\n",
       "      <th>Ingpcug</th>\n",
       "      <th>Li</th>\n",
       "      <th>Lp</th>\n",
       "      <th>Pobre</th>\n",
       "      <th>Indigente</th>\n",
       "      <th>Npobres</th>\n",
       "      <th>Nindigentes</th>\n",
       "      <th>Fex_c</th>\n",
       "      <th>Depto</th>\n",
       "      <th>Fex_dpto</th>\n",
       "    </tr>\n",
       "  </thead>\n",
       "  <tbody>\n",
       "    <tr>\n",
       "      <th>0</th>\n",
       "      <td>8d0193e328305a042001a35f</td>\n",
       "      <td>1</td>\n",
       "      <td>MEDELLIN</td>\n",
       "      <td>4</td>\n",
       "      <td>2</td>\n",
       "      <td>1</td>\n",
       "      <td>NaN</td>\n",
       "      <td>400000.0</td>\n",
       "      <td>NaN</td>\n",
       "      <td>5</td>\n",
       "      <td>...</td>\n",
       "      <td>5.816661e+05</td>\n",
       "      <td>122809.534158</td>\n",
       "      <td>289878.24715</td>\n",
       "      <td>0</td>\n",
       "      <td>0</td>\n",
       "      <td>0</td>\n",
       "      <td>0</td>\n",
       "      <td>127.222038</td>\n",
       "      <td>5</td>\n",
       "      <td>146.251790</td>\n",
       "    </tr>\n",
       "    <tr>\n",
       "      <th>1</th>\n",
       "      <td>cf7491d7f2cc9c216bd009e7</td>\n",
       "      <td>1</td>\n",
       "      <td>MEDELLIN</td>\n",
       "      <td>5</td>\n",
       "      <td>4</td>\n",
       "      <td>3</td>\n",
       "      <td>NaN</td>\n",
       "      <td>NaN</td>\n",
       "      <td>250000.0</td>\n",
       "      <td>4</td>\n",
       "      <td>...</td>\n",
       "      <td>1.612500e+05</td>\n",
       "      <td>122809.534158</td>\n",
       "      <td>289878.24715</td>\n",
       "      <td>1</td>\n",
       "      <td>0</td>\n",
       "      <td>4</td>\n",
       "      <td>0</td>\n",
       "      <td>115.866093</td>\n",
       "      <td>5</td>\n",
       "      <td>93.080952</td>\n",
       "    </tr>\n",
       "    <tr>\n",
       "      <th>2</th>\n",
       "      <td>d90a57f64d2a84dbacbed2a5</td>\n",
       "      <td>1</td>\n",
       "      <td>MEDELLIN</td>\n",
       "      <td>4</td>\n",
       "      <td>2</td>\n",
       "      <td>1</td>\n",
       "      <td>NaN</td>\n",
       "      <td>700000.0</td>\n",
       "      <td>NaN</td>\n",
       "      <td>3</td>\n",
       "      <td>...</td>\n",
       "      <td>2.000000e+06</td>\n",
       "      <td>122809.534158</td>\n",
       "      <td>289878.24715</td>\n",
       "      <td>0</td>\n",
       "      <td>0</td>\n",
       "      <td>0</td>\n",
       "      <td>0</td>\n",
       "      <td>100.123276</td>\n",
       "      <td>5</td>\n",
       "      <td>89.637086</td>\n",
       "    </tr>\n",
       "    <tr>\n",
       "      <th>3</th>\n",
       "      <td>db34e387a94a783188ab3a33</td>\n",
       "      <td>1</td>\n",
       "      <td>MEDELLIN</td>\n",
       "      <td>3</td>\n",
       "      <td>1</td>\n",
       "      <td>1</td>\n",
       "      <td>NaN</td>\n",
       "      <td>450000.0</td>\n",
       "      <td>NaN</td>\n",
       "      <td>1</td>\n",
       "      <td>...</td>\n",
       "      <td>2.450000e+06</td>\n",
       "      <td>122809.534158</td>\n",
       "      <td>289878.24715</td>\n",
       "      <td>0</td>\n",
       "      <td>0</td>\n",
       "      <td>0</td>\n",
       "      <td>0</td>\n",
       "      <td>108.829812</td>\n",
       "      <td>5</td>\n",
       "      <td>95.584376</td>\n",
       "    </tr>\n",
       "    <tr>\n",
       "      <th>4</th>\n",
       "      <td>97bbef785824746ecab09c6f</td>\n",
       "      <td>1</td>\n",
       "      <td>MEDELLIN</td>\n",
       "      <td>4</td>\n",
       "      <td>3</td>\n",
       "      <td>3</td>\n",
       "      <td>NaN</td>\n",
       "      <td>NaN</td>\n",
       "      <td>500000.0</td>\n",
       "      <td>5</td>\n",
       "      <td>...</td>\n",
       "      <td>2.520000e+05</td>\n",
       "      <td>122809.534158</td>\n",
       "      <td>289878.24715</td>\n",
       "      <td>1</td>\n",
       "      <td>0</td>\n",
       "      <td>5</td>\n",
       "      <td>0</td>\n",
       "      <td>110.412859</td>\n",
       "      <td>5</td>\n",
       "      <td>124.560515</td>\n",
       "    </tr>\n",
       "  </tbody>\n",
       "</table>\n",
       "<p>5 rows × 23 columns</p>\n",
       "</div>"
      ],
      "text/plain": [
       "                         id  Clase   Dominio  P5000  P5010  P5090  P5100  \\\n",
       "0  8d0193e328305a042001a35f      1  MEDELLIN      4      2      1    NaN   \n",
       "1  cf7491d7f2cc9c216bd009e7      1  MEDELLIN      5      4      3    NaN   \n",
       "2  d90a57f64d2a84dbacbed2a5      1  MEDELLIN      4      2      1    NaN   \n",
       "3  db34e387a94a783188ab3a33      1  MEDELLIN      3      1      1    NaN   \n",
       "4  97bbef785824746ecab09c6f      1  MEDELLIN      4      3      3    NaN   \n",
       "\n",
       "      P5130     P5140  Nper  ...       Ingpcug             Li            Lp  \\\n",
       "0  400000.0       NaN     5  ...  5.816661e+05  122809.534158  289878.24715   \n",
       "1       NaN  250000.0     4  ...  1.612500e+05  122809.534158  289878.24715   \n",
       "2  700000.0       NaN     3  ...  2.000000e+06  122809.534158  289878.24715   \n",
       "3  450000.0       NaN     1  ...  2.450000e+06  122809.534158  289878.24715   \n",
       "4       NaN  500000.0     5  ...  2.520000e+05  122809.534158  289878.24715   \n",
       "\n",
       "   Pobre  Indigente  Npobres  Nindigentes       Fex_c  Depto    Fex_dpto  \n",
       "0      0          0        0            0  127.222038      5  146.251790  \n",
       "1      1          0        4            0  115.866093      5   93.080952  \n",
       "2      0          0        0            0  100.123276      5   89.637086  \n",
       "3      0          0        0            0  108.829812      5   95.584376  \n",
       "4      1          0        5            0  110.412859      5  124.560515  \n",
       "\n",
       "[5 rows x 23 columns]"
      ]
     },
     "execution_count": 4,
     "metadata": {},
     "output_type": "execute_result"
    }
   ],
   "source": [
    "# Train\n",
    "train_hogares = pd.read_csv(\"PS2/stores/train_hogares.csv\")\n",
    "train_hogares.head()"
   ]
  },
  {
   "cell_type": "code",
   "execution_count": 5,
   "id": "0e8b5bef-dfad-4cf3-a7ee-a4557a5f5c5b",
   "metadata": {},
   "outputs": [
    {
     "data": {
      "text/html": [
       "<div>\n",
       "<style scoped>\n",
       "    .dataframe tbody tr th:only-of-type {\n",
       "        vertical-align: middle;\n",
       "    }\n",
       "\n",
       "    .dataframe tbody tr th {\n",
       "        vertical-align: top;\n",
       "    }\n",
       "\n",
       "    .dataframe thead th {\n",
       "        text-align: right;\n",
       "    }\n",
       "</style>\n",
       "<table border=\"1\" class=\"dataframe\">\n",
       "  <thead>\n",
       "    <tr style=\"text-align: right;\">\n",
       "      <th></th>\n",
       "      <th>id</th>\n",
       "      <th>Clase</th>\n",
       "      <th>Dominio</th>\n",
       "      <th>P5000</th>\n",
       "      <th>P5010</th>\n",
       "      <th>P5090</th>\n",
       "      <th>P5100</th>\n",
       "      <th>P5130</th>\n",
       "      <th>P5140</th>\n",
       "      <th>Nper</th>\n",
       "      <th>Npersug</th>\n",
       "      <th>Li</th>\n",
       "      <th>Lp</th>\n",
       "      <th>Fex_c</th>\n",
       "      <th>Depto</th>\n",
       "      <th>Fex_dpto</th>\n",
       "    </tr>\n",
       "  </thead>\n",
       "  <tbody>\n",
       "    <tr>\n",
       "      <th>0</th>\n",
       "      <td>2a7ddc2779480d7f19834953</td>\n",
       "      <td>1</td>\n",
       "      <td>SANTA MARTA</td>\n",
       "      <td>4</td>\n",
       "      <td>3</td>\n",
       "      <td>1</td>\n",
       "      <td>NaN</td>\n",
       "      <td>400000.0</td>\n",
       "      <td>NaN</td>\n",
       "      <td>5</td>\n",
       "      <td>5</td>\n",
       "      <td>121449.452925</td>\n",
       "      <td>275594.029448</td>\n",
       "      <td>7.826095</td>\n",
       "      <td>47</td>\n",
       "      <td>7.528079</td>\n",
       "    </tr>\n",
       "    <tr>\n",
       "      <th>1</th>\n",
       "      <td>a0c2e751e582fd49d564f308</td>\n",
       "      <td>1</td>\n",
       "      <td>SANTA MARTA</td>\n",
       "      <td>4</td>\n",
       "      <td>3</td>\n",
       "      <td>4</td>\n",
       "      <td>NaN</td>\n",
       "      <td>500000.0</td>\n",
       "      <td>NaN</td>\n",
       "      <td>6</td>\n",
       "      <td>6</td>\n",
       "      <td>121449.452925</td>\n",
       "      <td>275594.029448</td>\n",
       "      <td>15.002708</td>\n",
       "      <td>47</td>\n",
       "      <td>15.327736</td>\n",
       "    </tr>\n",
       "    <tr>\n",
       "      <th>2</th>\n",
       "      <td>57273d19e8464a5ff66a582b</td>\n",
       "      <td>2</td>\n",
       "      <td>RURAL</td>\n",
       "      <td>3</td>\n",
       "      <td>1</td>\n",
       "      <td>1</td>\n",
       "      <td>NaN</td>\n",
       "      <td>250000.0</td>\n",
       "      <td>NaN</td>\n",
       "      <td>2</td>\n",
       "      <td>2</td>\n",
       "      <td>100763.337626</td>\n",
       "      <td>170886.447382</td>\n",
       "      <td>45.701877</td>\n",
       "      <td>17</td>\n",
       "      <td>50.394748</td>\n",
       "    </tr>\n",
       "    <tr>\n",
       "      <th>3</th>\n",
       "      <td>418d052ff7878940ab938601</td>\n",
       "      <td>1</td>\n",
       "      <td>MEDELLIN</td>\n",
       "      <td>4</td>\n",
       "      <td>3</td>\n",
       "      <td>1</td>\n",
       "      <td>NaN</td>\n",
       "      <td>600000.0</td>\n",
       "      <td>NaN</td>\n",
       "      <td>5</td>\n",
       "      <td>5</td>\n",
       "      <td>122251.781628</td>\n",
       "      <td>294093.665341</td>\n",
       "      <td>70.318877</td>\n",
       "      <td>5</td>\n",
       "      <td>80.725068</td>\n",
       "    </tr>\n",
       "    <tr>\n",
       "      <th>4</th>\n",
       "      <td>212a37fc17016a3c78f76852</td>\n",
       "      <td>1</td>\n",
       "      <td>MEDELLIN</td>\n",
       "      <td>5</td>\n",
       "      <td>2</td>\n",
       "      <td>2</td>\n",
       "      <td>1800000.0</td>\n",
       "      <td>2000000.0</td>\n",
       "      <td>NaN</td>\n",
       "      <td>2</td>\n",
       "      <td>2</td>\n",
       "      <td>123664.359813</td>\n",
       "      <td>293293.411227</td>\n",
       "      <td>91.241328</td>\n",
       "      <td>5</td>\n",
       "      <td>95.116936</td>\n",
       "    </tr>\n",
       "    <tr>\n",
       "      <th>...</th>\n",
       "      <td>...</td>\n",
       "      <td>...</td>\n",
       "      <td>...</td>\n",
       "      <td>...</td>\n",
       "      <td>...</td>\n",
       "      <td>...</td>\n",
       "      <td>...</td>\n",
       "      <td>...</td>\n",
       "      <td>...</td>\n",
       "      <td>...</td>\n",
       "      <td>...</td>\n",
       "      <td>...</td>\n",
       "      <td>...</td>\n",
       "      <td>...</td>\n",
       "      <td>...</td>\n",
       "      <td>...</td>\n",
       "    </tr>\n",
       "    <tr>\n",
       "      <th>66163</th>\n",
       "      <td>e7d3c7cc62acd33867b7b7ee</td>\n",
       "      <td>1</td>\n",
       "      <td>BARRANQUILLA</td>\n",
       "      <td>3</td>\n",
       "      <td>2</td>\n",
       "      <td>3</td>\n",
       "      <td>NaN</td>\n",
       "      <td>NaN</td>\n",
       "      <td>450000.0</td>\n",
       "      <td>4</td>\n",
       "      <td>4</td>\n",
       "      <td>127610.370110</td>\n",
       "      <td>292192.080210</td>\n",
       "      <td>48.989768</td>\n",
       "      <td>8</td>\n",
       "      <td>48.415863</td>\n",
       "    </tr>\n",
       "    <tr>\n",
       "      <th>66164</th>\n",
       "      <td>710db9f02de9c616f846c72e</td>\n",
       "      <td>1</td>\n",
       "      <td>CARTAGENA</td>\n",
       "      <td>3</td>\n",
       "      <td>2</td>\n",
       "      <td>3</td>\n",
       "      <td>NaN</td>\n",
       "      <td>NaN</td>\n",
       "      <td>100000.0</td>\n",
       "      <td>5</td>\n",
       "      <td>5</td>\n",
       "      <td>122811.614203</td>\n",
       "      <td>288078.106437</td>\n",
       "      <td>39.488634</td>\n",
       "      <td>13</td>\n",
       "      <td>32.499700</td>\n",
       "    </tr>\n",
       "    <tr>\n",
       "      <th>66165</th>\n",
       "      <td>5a0d6b6fad06e4736fb6d95f</td>\n",
       "      <td>1</td>\n",
       "      <td>ARMENIA</td>\n",
       "      <td>3</td>\n",
       "      <td>2</td>\n",
       "      <td>3</td>\n",
       "      <td>NaN</td>\n",
       "      <td>NaN</td>\n",
       "      <td>250000.0</td>\n",
       "      <td>6</td>\n",
       "      <td>6</td>\n",
       "      <td>121282.133083</td>\n",
       "      <td>278659.892172</td>\n",
       "      <td>10.332009</td>\n",
       "      <td>63</td>\n",
       "      <td>9.719097</td>\n",
       "    </tr>\n",
       "    <tr>\n",
       "      <th>66166</th>\n",
       "      <td>569496964b70185785b57789</td>\n",
       "      <td>1</td>\n",
       "      <td>PEREIRA</td>\n",
       "      <td>2</td>\n",
       "      <td>2</td>\n",
       "      <td>4</td>\n",
       "      <td>NaN</td>\n",
       "      <td>300000.0</td>\n",
       "      <td>NaN</td>\n",
       "      <td>5</td>\n",
       "      <td>5</td>\n",
       "      <td>121522.856805</td>\n",
       "      <td>287292.899913</td>\n",
       "      <td>16.470949</td>\n",
       "      <td>66</td>\n",
       "      <td>14.496007</td>\n",
       "    </tr>\n",
       "    <tr>\n",
       "      <th>66167</th>\n",
       "      <td>225c4a98fcfad97cf4b08d0f</td>\n",
       "      <td>1</td>\n",
       "      <td>CALI</td>\n",
       "      <td>3</td>\n",
       "      <td>2</td>\n",
       "      <td>3</td>\n",
       "      <td>NaN</td>\n",
       "      <td>NaN</td>\n",
       "      <td>320000.0</td>\n",
       "      <td>4</td>\n",
       "      <td>4</td>\n",
       "      <td>126599.775559</td>\n",
       "      <td>279223.449502</td>\n",
       "      <td>95.694378</td>\n",
       "      <td>76</td>\n",
       "      <td>123.446537</td>\n",
       "    </tr>\n",
       "  </tbody>\n",
       "</table>\n",
       "<p>66168 rows × 16 columns</p>\n",
       "</div>"
      ],
      "text/plain": [
       "                             id  Clase       Dominio  P5000  P5010  P5090  \\\n",
       "0      2a7ddc2779480d7f19834953      1   SANTA MARTA      4      3      1   \n",
       "1      a0c2e751e582fd49d564f308      1   SANTA MARTA      4      3      4   \n",
       "2      57273d19e8464a5ff66a582b      2         RURAL      3      1      1   \n",
       "3      418d052ff7878940ab938601      1      MEDELLIN      4      3      1   \n",
       "4      212a37fc17016a3c78f76852      1      MEDELLIN      5      2      2   \n",
       "...                         ...    ...           ...    ...    ...    ...   \n",
       "66163  e7d3c7cc62acd33867b7b7ee      1  BARRANQUILLA      3      2      3   \n",
       "66164  710db9f02de9c616f846c72e      1     CARTAGENA      3      2      3   \n",
       "66165  5a0d6b6fad06e4736fb6d95f      1       ARMENIA      3      2      3   \n",
       "66166  569496964b70185785b57789      1       PEREIRA      2      2      4   \n",
       "66167  225c4a98fcfad97cf4b08d0f      1          CALI      3      2      3   \n",
       "\n",
       "           P5100      P5130     P5140  Nper  Npersug             Li  \\\n",
       "0            NaN   400000.0       NaN     5        5  121449.452925   \n",
       "1            NaN   500000.0       NaN     6        6  121449.452925   \n",
       "2            NaN   250000.0       NaN     2        2  100763.337626   \n",
       "3            NaN   600000.0       NaN     5        5  122251.781628   \n",
       "4      1800000.0  2000000.0       NaN     2        2  123664.359813   \n",
       "...          ...        ...       ...   ...      ...            ...   \n",
       "66163        NaN        NaN  450000.0     4        4  127610.370110   \n",
       "66164        NaN        NaN  100000.0     5        5  122811.614203   \n",
       "66165        NaN        NaN  250000.0     6        6  121282.133083   \n",
       "66166        NaN   300000.0       NaN     5        5  121522.856805   \n",
       "66167        NaN        NaN  320000.0     4        4  126599.775559   \n",
       "\n",
       "                  Lp      Fex_c  Depto    Fex_dpto  \n",
       "0      275594.029448   7.826095     47    7.528079  \n",
       "1      275594.029448  15.002708     47   15.327736  \n",
       "2      170886.447382  45.701877     17   50.394748  \n",
       "3      294093.665341  70.318877      5   80.725068  \n",
       "4      293293.411227  91.241328      5   95.116936  \n",
       "...              ...        ...    ...         ...  \n",
       "66163  292192.080210  48.989768      8   48.415863  \n",
       "66164  288078.106437  39.488634     13   32.499700  \n",
       "66165  278659.892172  10.332009     63    9.719097  \n",
       "66166  287292.899913  16.470949     66   14.496007  \n",
       "66167  279223.449502  95.694378     76  123.446537  \n",
       "\n",
       "[66168 rows x 16 columns]"
      ]
     },
     "execution_count": 5,
     "metadata": {},
     "output_type": "execute_result"
    }
   ],
   "source": [
    "# Test\n",
    "test_hogares = pd.read_csv(\"PS2/stores/test_hogares.csv\")\n",
    "test_hogares"
   ]
  },
  {
   "cell_type": "markdown",
   "id": "22675561-a19b-493b-b8e5-583bcd6c2480",
   "metadata": {},
   "source": [
    "## Data Cleaning"
   ]
  },
  {
   "cell_type": "markdown",
   "id": "7ca3ae78-e8fb-4202-9073-1f87673d8167",
   "metadata": {},
   "source": [
    "### Variables presentes en Train set pero no en Test set.\n",
    "\n",
    "Variables derivadas de la condición de pobreza/indigencia, generan fuga de información.\n",
    "\n",
    "- `Ingtotug`: Ingreso total de la unidad de gasto antes de imputación de arriendos a propietarios y usufructuarios\n",
    "- `Ingtotugarr`: Ingreso total de la unidad de gasto con imputación de arriendo a propietarios y usufructuarios\n",
    "- `Ingpcug`: Ingreso percápita de la unidad de gasto con imputación de arriendo a propietarios y usufructuarios\n",
    "\n",
    "- `Npobres`: Número de personas en hogares clasificados como pobres.\n",
    "- `Nindigentes`: Número de personas en hogares clasificados en pobreza extrema."
   ]
  },
  {
   "cell_type": "markdown",
   "id": "c7696f9f-b9a2-4c96-851e-134a8d635fe2",
   "metadata": {},
   "source": [
    "Anteriormente habíamos indicado que la cantidad de pobres e indigentes (`Npobres` y `Nindigentes` ) deben ser eliminadas del modelo porque son el resultado de la clasificación de pobreza y pobreza extrema, que es exactamente lo que estamos tratando de predecir. Incluir estas variables en el modelo introduciría redundancia y podría generar fugas de información (*data leakage*), lo que afectaría negativamente la capacidad del modelo para generalizar a datos no vistos.\n",
    "\n",
    "Además, Excluir variables `Ingtotug`, `Ingtotugarr`, `Ingpcug` del dataset de entrenamiento del modelo, dado que el mismo debe realizarse solo con las variables que están disponibles en el dataset de test para predecir el target, asegurando utilidad y robustez del modelo.\n",
    "Las mismas podrían ser imputadas proyectando por regresión Lineal y/o Elastic Net los ingresos de los hogares, utilizando los datasets train y test de personas."
   ]
  },
  {
   "cell_type": "code",
   "execution_count": null,
   "id": "6e50746e-caaf-4393-8b66-1ff0ceacddb1",
   "metadata": {},
   "outputs": [],
   "source": [
    "# Identificar las columnas con valores faltantes en X_train y test_hogares\n",
    "missing_train_cols = train_hogares.columns[train_hogares.isnull().sum() > 0]\n",
    "missing_test_cols = test_hogares.columns[test_hogares.isnull().sum() > 0]\n",
    "\n",
    "# Asegurarse de que las columnas con valores faltantes estén presentes en ambos datasets\n",
    "columns_to_impute = list(set(missing_train_cols).union(set(missing_test_cols)))\n",
    "\n",
    "# Mostrar las columnas que serán imputadas\n",
    "print(f\"Columnas a imputar: {columns_to_impute}\")"
   ]
  },
  {
   "cell_type": "code",
   "execution_count": 6,
   "id": "8115d04d-38ec-4ab5-b338-30c78cb6d5d0",
   "metadata": {},
   "outputs": [
    {
     "data": {
      "text/plain": [
       "set()"
      ]
     },
     "execution_count": 6,
     "metadata": {},
     "output_type": "execute_result"
    }
   ],
   "source": []
  },
  {
   "cell_type": "code",
   "execution_count": 7,
   "id": "ee10aa24-5911-40ee-9e9f-d8b46a1dace4",
   "metadata": {},
   "outputs": [
    {
     "data": {
      "text/plain": [
       "{'Indigente',\n",
       " 'Ingpcug',\n",
       " 'Ingtotug',\n",
       " 'Ingtotugarr',\n",
       " 'Nindigentes',\n",
       " 'Npobres',\n",
       " 'Pobre'}"
      ]
     },
     "execution_count": 7,
     "metadata": {},
     "output_type": "execute_result"
    }
   ],
   "source": [
    "set(train_hogares.columns) - set(test_hogares.columns)"
   ]
  },
  {
   "cell_type": "code",
   "execution_count": 8,
   "id": "1417e09d-e625-472a-ac08-ef0cfcf60b11",
   "metadata": {},
   "outputs": [],
   "source": [
    "# Variables a eliminar por no estar presentes en el dataset de test\n",
    "columns_to_drop = ['Npobres', 'Nindigentes', 'Ingtotug', 'Ingtotugarr', 'Ingpcug']\n",
    "train_hogares = train_hogares.drop(columns=columns_to_drop, axis=1)"
   ]
  },
  {
   "cell_type": "markdown",
   "id": "4ff0873b-78fe-4ec8-bc5c-166f105d854a",
   "metadata": {},
   "source": [
    "### Variables target\n",
    "\n",
    "- `Pobre`: Variable que identifica los hogares en condiciones de pobreza. Target. Pobre=1 No pobre=0\n",
    "- `Indigente`: Variable que identifica los hogares en condiciones de pobreza extrema."
   ]
  },
  {
   "cell_type": "code",
   "execution_count": 9,
   "id": "c753b1f8-ebb0-478e-97bf-0ed9d29277fc",
   "metadata": {},
   "outputs": [],
   "source": [
    "#El conjunto de test no puede ver las variables objetivo\n",
    "columns_to_drop = ['Indigente']\n",
    "train_hogares = train_hogares.drop(columns=columns_to_drop, axis=1)"
   ]
  },
  {
   "cell_type": "code",
   "execution_count": 10,
   "id": "ba0748d0-6e2b-4875-8717-e5a1d7a1eac0",
   "metadata": {},
   "outputs": [],
   "source": [
    "# Encoding de variable Dominio\n",
    "#One-Hot Encoding: Es útil cuando tienes pocas categorías y las categorías no tienen un orden específico.\n",
    "#Label Encoding: Es útil cuando las categorías tienen un orden natural (por ejemplo, \"bajo\", \"medio\", \"alto\")."
   ]
  },
  {
   "cell_type": "markdown",
   "id": "7ed4a012-3ae4-46e3-aff2-ef5486a981ed",
   "metadata": {},
   "source": [
    "### Variables irrelevantes\n",
    "\n",
    "- `Fex_c` y `Fex_dpto`: Factores de expansión que no aportan a la predicción directa de la pobreza."
   ]
  },
  {
   "cell_type": "markdown",
   "id": "32776f6a-73f1-4e68-b411-4c23b6b34b17",
   "metadata": {},
   "source": [
    "Dado que los factores de expansión (`Fex_c` y `Fex_dpto`) son utilizados para ajustar los resultados de la muestra a la población total y no contienen información sobre las características del hogar o las personas, no tienen relevancia para predecir si un hogar es pobre o no. En consecuencia, no deben ser incluidos en el modelo predictivo, ya que podrían agregar ruido innecesario y disminuir la capacidad del modelo para identificar patrones verdaderamente relevantes."
   ]
  },
  {
   "cell_type": "code",
   "execution_count": 11,
   "id": "b96cc9bb-6811-42c4-8a5f-2e974383b6bc",
   "metadata": {},
   "outputs": [],
   "source": [
    "# Variables a eliminar por ser irrelevantes para la predicción\n",
    "columns_to_drop = ['Fex_c', 'Fex_dpto']\n",
    "\n",
    "train_hogares = train_hogares.drop(columns=columns_to_drop, axis=1)\n",
    "test_hogares = test_hogares.drop(columns=columns_to_drop, axis=1)"
   ]
  },
  {
   "cell_type": "markdown",
   "id": "dc49264a-8a7b-46f5-8c7a-82296463c5bb",
   "metadata": {},
   "source": [
    "### Identificadores"
   ]
  },
  {
   "cell_type": "code",
   "execution_count": 12,
   "id": "9805c7aa-9fa1-4b0c-b620-205722b68426",
   "metadata": {},
   "outputs": [],
   "source": [
    "# Guardar el identificador de los hogares en el conjunto de prueba\n",
    "test_ids = test_hogares['id']\n",
    "\n",
    "# Eliminar 'id' de las características para que no interfiera en el modelo\n",
    "train_hogares = train_hogares.drop('id', axis=1)\n",
    "test_hogares = test_hogares.drop('id', axis=1)"
   ]
  },
  {
   "cell_type": "markdown",
   "id": "a3cc899d-0759-40a4-b349-70be86592008",
   "metadata": {},
   "source": [
    "## Train/Test, Scaling y Encoding"
   ]
  },
  {
   "cell_type": "code",
   "execution_count": 13,
   "id": "895f51a7-72e5-4645-bb62-48c6418d3c6a",
   "metadata": {},
   "outputs": [],
   "source": [
    "# Separar características (X) y variable objetivo (y) en el dataset de entrenamiento\n",
    "X_train = train_hogares.drop('Pobre', axis=1)  # Variables predictoras\n",
    "y_train = train_hogares['Pobre']  # Variable objetivo"
   ]
  },
  {
   "cell_type": "code",
   "execution_count": 14,
   "id": "916f3cf2-ab55-4943-a004-875a80f0493f",
   "metadata": {},
   "outputs": [],
   "source": [
    "# One-hot encoding para la variable categórica 'Dominio'\n",
    "#Logistic Regression requiere que ninguna variable sea de tipo string.\n",
    "# Justificación: No se usa label encoding porque 'Dominio' no tiene un orden natural; one-hot encoding es más adecuado.\n",
    "# Si 'Dominio' tiene 24 categorías, el one-hot encoding creará 23 nuevas columnas, ya que eliminamos una (con drop_first=True).\n",
    "X_train = pd.get_dummies(X_train, columns=['Dominio'], drop_first=True)\n",
    "test_hogares = pd.get_dummies(test_hogares, columns=['Dominio'], drop_first=True)"
   ]
  },
  {
   "cell_type": "code",
   "execution_count": 15,
   "id": "44b818ee-3625-4a58-bd55-fcf5f50e5ef6",
   "metadata": {},
   "outputs": [],
   "source": [
    "# One-hot encoding para la variable categórica'P5090'\n",
    "# La columna 'P5090' contiene valores categóricos pero representados como números\n",
    "# One-hot encoding para convertirlas en columnas binarias.\n",
    "X_train = pd.get_dummies(X_train, columns=['P5090'], drop_first=True)\n",
    "test_hogares = pd.get_dummies(test_hogares, columns=['P5090'], drop_first=True)"
   ]
  },
  {
   "cell_type": "code",
   "execution_count": 16,
   "id": "0d1ac45e-79d0-4787-9651-6b273cc21e7e",
   "metadata": {},
   "outputs": [],
   "source": [
    "# Cambiar el nombre de la columna a \"cabecera\"\n",
    "X_train['cabecera'] = X_train['Clase'].map({1: True, 2: False})\n",
    "test_hogares['cabecera'] = test_hogares['Clase'].map({1: True, 2: False})\n",
    "\n",
    "# Eliminar la columna original 'Clase' si ya no es necesaria\n",
    "X_train = X_train.drop('Clase', axis=1)\n",
    "test_hogares = test_hogares.drop('Clase', axis=1)"
   ]
  },
  {
   "cell_type": "markdown",
   "id": "fd24471c-af0f-4ca2-92a3-258ad94e5666",
   "metadata": {},
   "source": [
    "### Missing Values\n",
    "\n",
    "Variables que presentan valores faltantes, coinciden con variables rellenadas con 98 y 99 como números de default para casos especiales. Los mismos también merecen tener un trato especial.\n",
    "\n",
    "- `P5100`: Si tiene crédito de vivienda, ¿cuánto pagan mensualmente por cuota de amortización?\n",
    "Cuando el informante declare que no sabe el valor de la cuota, escriba 98, si no informa el valor de la cuota, escriba en la línea de valor (99).\n",
    "- `P5130`: Si tuviera que pagar arriendo por esta vivienda, ¿cuánto estima que tendría que pagar mensualmente?\n",
    "Si no es posible obtener este valor o el informante no lo informa, escriba en la línea 99.\n",
    "- `P5140`: ¿cuánto pagan mensualmente por arriendo?\n",
    "no sabe o no informa, escriba en la línea el valor (99).si paga pero no quiere informar el valor del arriendo escriba sobre la línea de valor (98)."
   ]
  },
  {
   "cell_type": "code",
   "execution_count": 17,
   "id": "f70d4b6b-6445-4dbc-ae5c-20240cac86fa",
   "metadata": {},
   "outputs": [
    {
     "name": "stdout",
     "output_type": "stream",
     "text": [
      "Valores faltantes y su proporción respecto al total de la muestra:\n",
      "  Variable  Frecuencia  Proporción (%)  Proporción valores 98 o 99 (%)\n",
      "0    P5100      159334           96.59                            0.30\n",
      "1    P5130       64453           39.07                            5.86\n",
      "2    P5140      100507           60.93                            0.45\n"
     ]
    }
   ],
   "source": [
    "# Filtrar las columnas con valores faltantes mayores a cero\n",
    "missing_columns = X_train.isnull().sum()[X_train.isnull().sum() > 0]\n",
    "\n",
    "# Calcular la proporción de los valores faltantes respecto al total de la muestra\n",
    "missing_percentage = (missing_columns / X_train.shape[0]) * 100\n",
    "\n",
    "# Filtrar las columnas que contienen valores 98 o 99\n",
    "invalid_values = X_train[missing_columns.index].isin([98, 99]).sum()\n",
    "\n",
    "# Calcular la proporción de valores iguales a 98 o 99 respecto al total de la muestra\n",
    "invalid_percentage = (invalid_values / X_train.shape[0]) * 100\n",
    "\n",
    "# Crear un DataFrame con las columnas, la frecuencia y la proporción\n",
    "missing_data_df = pd.DataFrame({\n",
    "    'Variable': missing_columns.index,\n",
    "    'Frecuencia': missing_columns.values,\n",
    "    'Proporción (%)': missing_percentage.round(2).values,  # Redondear a 2 decimales\n",
    "    'Proporción valores 98 o 99 (%)': invalid_percentage.round(2).values  # Nueva columna con la proporción de 98/99\n",
    "})\n",
    "\n",
    "# Imprimir el DataFrame resultante\n",
    "print(\"Valores faltantes y su proporción respecto al total de la muestra:\")\n",
    "print(missing_data_df)\n"
   ]
  },
  {
   "cell_type": "markdown",
   "id": "a2bd3280-fddb-453c-80b1-0290442c3481",
   "metadata": {},
   "source": [
    "#### Missings de `P5100` y relación con `P5090`"
   ]
  },
  {
   "cell_type": "code",
   "execution_count": 18,
   "id": "424ce478-a5bc-4490-ac0d-dfb2a0a1cc65",
   "metadata": {},
   "outputs": [
    {
     "name": "stdout",
     "output_type": "stream",
     "text": [
      "Frecuencia y participación de los valores únicos en la columna 5090:\n",
      "   Valor  Frecuencia  Participación (%)\n",
      "1      1       62276              37.75\n",
      "4      2        5626               3.41\n",
      "0      3       64453              39.07\n",
      "2      4       24865              15.07\n",
      "3      5        7574               4.59\n",
      "5      6         166               0.10\n"
     ]
    }
   ],
   "source": [
    "# recargo el dataset\n",
    "train_p5090 = pd.read_csv(\"PS2/stores/train_hogares.csv\")\n",
    "\n",
    "# Calcular la frecuencia de los valores únicos\n",
    "value_counts = train_p5090['P5090'].value_counts()\n",
    "\n",
    "# Calcular la participación porcentual\n",
    "value_percentages = (value_counts / train_p5090.shape[0]) * 100\n",
    "\n",
    "# Crear un DataFrame con los resultados\n",
    "value_counts_df = pd.DataFrame({\n",
    "    'Valor': value_counts.index,\n",
    "    'Frecuencia': value_counts.values,\n",
    "    'Participación (%)': value_percentages.round(2).values\n",
    "})\n",
    "\n",
    "# Imprimir el DataFrame resultante\n",
    "print(\"Frecuencia y participación de los valores únicos en la columna 5090:\")\n",
    "print(value_counts_df.sort_values('Valor'))\n",
    "\n"
   ]
  },
  {
   "cell_type": "code",
   "execution_count": 19,
   "id": "70fbd191-47cd-498a-80e5-a45cf4b8780f",
   "metadata": {},
   "outputs": [
    {
     "name": "stdout",
     "output_type": "stream",
     "text": [
      "Todas las filas con P5100 no nulo cumplen que P5090 es igual a 2.\n"
     ]
    }
   ],
   "source": [
    "# Filtrar las filas donde P5100 no sea null\n",
    "p5100_not_null = train_p5090[train_p5090['P5100'].notnull()]\n",
    "\n",
    "# Verificar si todas las filas filtradas cumplen con la condición P5090 == 2\n",
    "invalid_rows = p5100_not_null[p5100_not_null['P5090'] != 2]\n",
    "\n",
    "# Mostrar el resultado\n",
    "if invalid_rows.empty:\n",
    "    print(\"Todas las filas con P5100 no nulo cumplen que P5090 es igual a 2.\")\n",
    "else:\n",
    "    print(f\"Hay {invalid_rows.shape[0]} filas donde P5100 no es nulo pero P5090 no es igual a 2:\")\n",
    "    print(invalid_rows)\n"
   ]
  },
  {
   "cell_type": "markdown",
   "id": "616fa605-d513-47ec-8c9b-74e2ac560cbf",
   "metadata": {},
   "source": [
    "Las respuestas a `P5100`: Si tiene crédito de vivienda, ¿cuánto pagan mensualmente por cuota de amortización?\n",
    "Se condice con la proporcion de observaciones que respondieron en `P5090` que la vivienda ocupada por este hogar es Propia, y la están pagando (en el catálogo aparece como opción b, que debería corresponder a la op.2).\n",
    "\n",
    "Por lo que el porcentaje de 96.59% de missing values, no es que esté faltando el valor, sino que son el 96% que no corresponde a la opción de casa propia con préstamo; ya sea que no tiene casa propia o porque no tiene préstamo sobre dicho inmueble.\n",
    "\n",
    "Por dicho motivo se puede imputar 0.\n"
   ]
  },
  {
   "cell_type": "code",
   "execution_count": 20,
   "id": "50d0f06c-6555-4897-b68c-a1ddf49ae227",
   "metadata": {},
   "outputs": [
    {
     "name": "stdout",
     "output_type": "stream",
     "text": [
      "Valores faltantes en P5100 después del relleno: 0\n"
     ]
    }
   ],
   "source": [
    "# Rellenar valores faltantes en la columna P5100 con 0\n",
    "X_train['P5100'] = X_train['P5100'].fillna(0)\n",
    "\n",
    "# Verificar que ya no hay valores faltantes en P5100\n",
    "print(f\"Valores faltantes en P5100 después del relleno: {X_train['P5100'].isnull().sum()}\")"
   ]
  },
  {
   "cell_type": "markdown",
   "id": "9d7b6c1b-6008-48dd-b210-624f0b43b15a",
   "metadata": {},
   "source": [
    "#### Missings de `P5140` y relación con `P5090`"
   ]
  },
  {
   "cell_type": "code",
   "execution_count": 21,
   "id": "eec7a577-5a6e-4d35-ad6a-f6a97a463f56",
   "metadata": {},
   "outputs": [
    {
     "name": "stdout",
     "output_type": "stream",
     "text": [
      "Total de filas donde P5140 no es nulo: 64453\n",
      "Porcentaje de filas que cumplen con la condición P5090 == 3: 100.00%\n",
      "Todas las filas cumplen con la condición P5090 == 3.\n"
     ]
    }
   ],
   "source": [
    "# Filtrar las filas donde P5140 no es nulo\n",
    "p5140_not_null = train_p5090[train_p5090['P5140'].notnull()]\n",
    "\n",
    "# Verificar si todas las filas cumplen con la condición P5090 == 3\n",
    "check_p5090 = p5140_not_null['P5090'] == 3\n",
    "\n",
    "# Calcular el porcentaje de filas que cumplen con la condición\n",
    "percentage_match = check_p5090.mean() * 100\n",
    "\n",
    "# Imprimir los resultados\n",
    "print(f\"Total de filas donde P5140 no es nulo: {p5140_not_null.shape[0]}\")\n",
    "print(f\"Porcentaje de filas que cumplen con la condición P5090 == 3: {percentage_match:.2f}%\")\n",
    "\n",
    "# Verificar si hay filas que no cumplen la condición\n",
    "if not check_p5090.all():\n",
    "    non_matching_rows = p5140_not_null[~check_p5090]\n",
    "    print(f\"Filas que no cumplen con la condición:\\n{non_matching_rows}\")\n",
    "else:\n",
    "    print(\"Todas las filas cumplen con la condición P5090 == 3.\")\n"
   ]
  },
  {
   "cell_type": "markdown",
   "id": "b7e9c5c7-b69c-4fb4-87e1-5fc76634b8e3",
   "metadata": {},
   "source": [
    "Los hogares que respondieron `P5140`: ¿cuánto pagan mensualmente por arriendo?\n",
    "Se condicen con la proporcion de observaciones que en la pregunta `P5090` respondieron la opción c. En arriendo o subarriendo.\n",
    "    \n",
    "Por lo que el porcentaje de 60% de missing values, no es que esté faltando el valor, sino que son el 60% que no paga arriendo.\n",
    "\n",
    "Por dicho motivo se puede imputar 0.\n"
   ]
  },
  {
   "cell_type": "code",
   "execution_count": 22,
   "id": "fe38ec6e-9045-4bc3-a988-b67646c8a24c",
   "metadata": {},
   "outputs": [
    {
     "name": "stdout",
     "output_type": "stream",
     "text": [
      "Valores faltantes en P5140 después del relleno: 0\n"
     ]
    }
   ],
   "source": [
    "# Rellenar los valores faltantes de P5140 con cero\n",
    "X_train['P5140'] = X_train['P5140'].fillna(0)\n",
    "\n",
    "# Verificar que ya no hay valores faltantes en P5140\n",
    "print(f\"Valores faltantes en P5140 después del relleno: {X_train['P5140'].isnull().sum()}\")\n"
   ]
  },
  {
   "cell_type": "markdown",
   "id": "0b8278c4-ff82-43e1-b17f-410f4c380eae",
   "metadata": {},
   "source": [
    "#### Missings de `P5130` y relación con `P5090`"
   ]
  },
  {
   "cell_type": "code",
   "execution_count": 23,
   "id": "cf178d0a-1b37-40b0-9053-0d93841da949",
   "metadata": {},
   "outputs": [
    {
     "name": "stdout",
     "output_type": "stream",
     "text": [
      "Proporción de valores de P5090 entre las filas donde P5130 no es nulo:\n",
      "   P5090  Frecuencia  Proporción (%)\n",
      "0      1       62276       61.961853\n",
      "1      4       24865       24.739570\n",
      "2      5        7574        7.535794\n",
      "3      2        5626        5.597620\n",
      "4      6         166        0.165163\n"
     ]
    }
   ],
   "source": [
    "# Filtrar las filas donde P5130 no es nulo\n",
    "filtro_p5130 = train_p5090[train_p5090['P5130'].notnull()]\n",
    "\n",
    "# Calcular la frecuencia y proporción de los valores de P5090 dentro del filtro\n",
    "p5130_vs_p5090 = filtro_p5130['P5090'].value_counts().reset_index()\n",
    "p5130_vs_p5090.columns = ['P5090', 'Frecuencia']\n",
    "\n",
    "# Agregar la proporción respecto al total de P5130 no nulo\n",
    "p5130_vs_p5090['Proporción (%)'] = (p5130_vs_p5090['Frecuencia'] / filtro_p5130.shape[0]) * 100\n",
    "\n",
    "# Ordenar por frecuencia (opcional)\n",
    "p5130_vs_p5090 = p5130_vs_p5090.sort_values(by='Frecuencia', ascending=False).reset_index(drop=True)\n",
    "\n",
    "# Mostrar resultados\n",
    "print(\"Proporción de valores de P5090 entre las filas donde P5130 no es nulo:\")\n",
    "print(p5130_vs_p5090)\n"
   ]
  },
  {
   "cell_type": "code",
   "execution_count": 24,
   "id": "40e62815-beb1-4b48-b466-2084b77f213c",
   "metadata": {},
   "outputs": [
    {
     "name": "stdout",
     "output_type": "stream",
     "text": [
      "Todas las filas donde P5130 es nulo corresponden a P5090 igual a 3 (c. En arriendo o subarriendo).\n"
     ]
    }
   ],
   "source": [
    "# Filtrar las filas donde P5130 es nulo\n",
    "filtro_p5130_null = train_p5090[train_p5090['P5130'].isnull()]\n",
    "\n",
    "# Verificar si todas esas filas tienen P5090 igual a 3\n",
    "check_p5090_3 = (filtro_p5130_null['P5090'] == 3).all()\n",
    "\n",
    "# Mostrar el resultado\n",
    "if check_p5090_3:\n",
    "    print(\"Todas las filas donde P5130 es nulo corresponden a P5090 igual a 3 (c. En arriendo o subarriendo).\")\n",
    "else:\n",
    "    print(\"Hay filas donde P5130 es nulo y P5090 no es igual a 3.\")\n",
    "    # Calcular la proporción de cada valor de P5090 en las filas filtradas\n",
    "    proporciones_p5090 = filtro_p5130_null['P5090'].value_counts(normalize=True) * 100\n",
    "    # Mostrar la proporción\n",
    "    print(\"Proporción de valores de P5090 en las filas donde P5130 es nulo:\")\n",
    "    print(proporciones_p5090.round(2))  # Redondear a dos decimales"
   ]
  },
  {
   "cell_type": "markdown",
   "id": "0565b2c7-e29e-4e00-8754-903c802f2324",
   "metadata": {},
   "source": [
    "Los que respondieron `P5130`: Si tuviera que pagar arriendo por esta vivienda, ¿cuánto estima que tendría que pagar mensualmente?\n",
    "\n",
    "para las personas que sí pagan arriendo, podría ser rellenada con esa info.\n",
    "\n",
    "Entonces, a los missing de P5130 (monto de arriendo ¿cuanto estima que debería pagar?), podría ser rellenada con la info de `P5140` (¿cuanto paga por arriendo?).\n",
    "\n",
    "Se intuye que esos missing en la estimación se debe a que esa persona que efectivamente paga arriendo, tenga que responder la P5140 y no la P5130."
   ]
  },
  {
   "cell_type": "code",
   "execution_count": 25,
   "id": "3bdc6313-8e2f-4824-b442-589aeb245232",
   "metadata": {},
   "outputs": [
    {
     "name": "stdout",
     "output_type": "stream",
     "text": [
      "Valores faltantes en P5140 después del relleno: 0\n"
     ]
    }
   ],
   "source": [
    "# Llenar los valores nulos de P5130 con los valores de P5140\n",
    "X_train['P5130'] = X_train['P5130'].fillna(X_train['P5140'])\n",
    "\n",
    "# Verificar que se haya completado correctamente\n",
    "print(f\"Valores faltantes en P5140 después del relleno: {X_train['P5130'].isnull().sum()}\")"
   ]
  },
  {
   "cell_type": "markdown",
   "id": "8432139c-6ad5-4d7f-bc3c-064130558801",
   "metadata": {},
   "source": [
    "#### Valores 98 y 99\n",
    "\n",
    "Las preguntas 'P5130', 'P5100', 'P5140', donde el encuestado no sabía qué responder o se negaba a responder, fueron rellenadas con los valores 98 o 99. Para aplicar una técnica avanzada de relleno de valores faltantes, se decidió darles un tratamiento especial a estos valores de \"default\" (98 y 99) y reemplazarlos utilizando KNN."
   ]
  },
  {
   "cell_type": "code",
   "execution_count": 35,
   "id": "82e81300-f283-4de2-bc8a-6849763e0c66",
   "metadata": {},
   "outputs": [
    {
     "name": "stdout",
     "output_type": "stream",
     "text": [
      "Número de filas con valores menores a 100 y mayores a 0, excluyendo 98 y 99: 1\n",
      " 1 deleted\n"
     ]
    }
   ],
   "source": [
    "# Definir las columnas a verificar\n",
    "columns_to_check = ['P5130', 'P5100', 'P5140']\n",
    "\n",
    "# Filtrar las filas que cumplen con la condición de ser menores a 100 y mayores a 0, excluyendo 98 y 99\n",
    "check_values = X_train[columns_to_check].applymap(lambda x: (0 < x < 100) and x not in [98, 99])\n",
    "\n",
    "# Mostrar las filas donde se encuentra esta condición\n",
    "invalid_values_rows = check_values.any(axis=1)  # Devuelve las filas que tienen al menos un valor que cumpla la condición\n",
    "\n",
    "# Imprimir el número de filas que tienen valores incorrectos\n",
    "num_invalid_rows = invalid_values_rows.sum()\n",
    "print(f\"Número de filas con valores menores a 100 y mayores a 0, excluyendo 98 y 99: {num_invalid_rows}\")\n",
    "\n",
    "# Mostrar las filas que cumplen con la condición\n",
    "X_train[invalid_values_rows]"
   ]
  },
  {
   "cell_type": "code",
   "execution_count": null,
   "id": "6f31ed6f-6c34-456a-9d37-807aa509fd29",
   "metadata": {},
   "outputs": [],
   "source": [
    "# Si hay menos de 10 filas que cumplen con la condición, eliminarlas\n",
    "if num_invalid_rows <= 10:\n",
    "    X_train = X_train.drop(X_train[invalid_values_rows].index)\n",
    "    print(f\" {num_invalid_rows} deleted\")"
   ]
  },
  {
   "cell_type": "code",
   "execution_count": 37,
   "id": "1157cb2f-b810-4839-9ac5-c61cda16a484",
   "metadata": {},
   "outputs": [
    {
     "name": "stdout",
     "output_type": "stream",
     "text": [
      "DataFrame después de convertir 98 y 99 en NaN:\n",
      "Filas con NaN en al menos una de las columnas:\n",
      "     P5130  P5100  P5140\n",
      "24     NaN    0.0    0.0\n",
      "25     NaN    0.0    NaN\n",
      "52     NaN    0.0    0.0\n",
      "95     NaN    0.0    0.0\n",
      "167    NaN    0.0    0.0\n"
     ]
    }
   ],
   "source": [
    "# Definir las columnas a verificar\n",
    "columns_to_impute = ['P5130', 'P5100', 'P5140']\n",
    "\n",
    "# Convertir los valores 98 y 99 en NaN para las columnas especificadas, para imputar esos valores\n",
    "X_train[columns_to_impute] = X_train[columns_to_impute].replace({98: np.nan, 99: np.nan})\n",
    "\n",
    "# Verificar los cambios\n",
    "print(\"DataFrame después de convertir 98 y 99 en NaN:\")\n",
    "# Filtrar las filas que tienen NaN en al menos una de las columnas especificadas\n",
    "nan_rows = X_train[columns_to_impute].isna().any(axis=1)\n",
    "\n",
    "# Mostrar las filas que tienen NaN en alguna de las tres columnas\n",
    "print(\"Filas con NaN en al menos una de las columnas:\")\n",
    "print(X_train[nan_rows][columns_to_impute].head())"
   ]
  },
  {
   "cell_type": "code",
   "execution_count": 38,
   "id": "8de30d63-ae3a-42c3-8ef3-efc401a1f03a",
   "metadata": {},
   "outputs": [
    {
     "name": "stdout",
     "output_type": "stream",
     "text": [
      "Valores faltantes y su proporción respecto al total de la muestra:\n",
      "  Variable  Frecuencia  Proporción (%)\n",
      "0    P5100         496            0.30\n",
      "1    P5130       10421            6.32\n",
      "2    P5140         750            0.45\n"
     ]
    }
   ],
   "source": [
    "# Filtrar las columnas con valores faltantes mayores a cero\n",
    "missing_columns = X_train.isnull().sum()[X_train.isnull().sum() > 0]\n",
    "\n",
    "# Calcular la proporción de los valores faltantes respecto al total de la muestra\n",
    "missing_percentage = (missing_columns / X_train.shape[0]) * 100\n",
    "\n",
    "# Crear un DataFrame con las columnas, la frecuencia y la proporción\n",
    "missing_data_df = pd.DataFrame({\n",
    "    'Variable': missing_columns.index,\n",
    "    'Frecuencia': missing_columns.values,\n",
    "    'Proporción (%)': missing_percentage.round(2).values  # Redondear a 2 decimales\n",
    "})\n",
    "\n",
    "# Imprimir el DataFrame resultante\n",
    "print(\"Valores faltantes y su proporción respecto al total de la muestra:\")\n",
    "print(missing_data_df)"
   ]
  },
  {
   "cell_type": "code",
   "execution_count": 40,
   "id": "e353a86b-880a-4561-bf1c-54fe49e3b4e5",
   "metadata": {},
   "outputs": [
    {
     "name": "stdout",
     "output_type": "stream",
     "text": [
      "             P5130        P5100        P5140\n",
      "count    154538.00    164463.00    164209.00\n",
      "mean     507714.66     31469.40    171882.51\n",
      "std     3482897.01   1143375.63    931755.37\n",
      "min         280.00         0.00         0.00\n",
      "25%      250000.00         0.00         0.00\n",
      "50%      400000.00         0.00         0.00\n",
      "75%      530000.00         0.00    300000.00\n",
      "max   600000000.00 280000000.00 300000000.00\n"
     ]
    }
   ],
   "source": [
    "# Establecer opción para evitar la notación científica\n",
    "pd.set_option('display.float_format', '{:.2f}'.format)\n",
    "\n",
    "columns_to_impute = ['P5130', 'P5100', 'P5140']\n",
    "print(X_train[columns_to_impute].describe())\n",
    "\n",
    "# deshacer el set_option\n",
    "pd.reset_option('display.float_format')"
   ]
  },
  {
   "cell_type": "markdown",
   "id": "5726c684-1e26-4068-b720-4d451a5c38ae",
   "metadata": {},
   "source": [
    "#### `P5130`: imputar valor 99 con la mediana\n",
    "\n",
    "- `P5130`: Si tuviera que pagar arriendo por esta vivienda, ¿cuánto estima que tendría que pagar mensualmente?\n",
    "Esta pregunta indaga sobre el estimativo del arriendo de las viviendas de los hogares propietarios, usufructuarios u ocupantes de hecho.\n",
    "Si no es posible obtener este valor o el informante no lo informa, escriba en la línea 99.\n",
    "\n",
    "Por cuestiones pedagógicas, se imputa P5130 con la mediana, porque es la única de las tres variables que tiene mediana diferente de 0, y se deja las otras dos variables a ser imputadas por KNN"
   ]
  },
  {
   "cell_type": "code",
   "execution_count": 42,
   "id": "a2e8d2b6-c813-41c9-a4b7-9bf4c9e8addb",
   "metadata": {},
   "outputs": [],
   "source": [
    "# Imputar los valores faltantes de P5130 con la mediana\n",
    "median_p5130 = X_train['P5130'].median()\n",
    "X_train['P5130'].fillna(median_p5130, inplace=True)"
   ]
  },
  {
   "cell_type": "code",
   "execution_count": 43,
   "id": "319ed6ec-a260-4b71-86cd-24836bcd5283",
   "metadata": {},
   "outputs": [
    {
     "name": "stdout",
     "output_type": "stream",
     "text": [
      "Imputación de P5130 con mediana (400000.0):\n",
      "0\n"
     ]
    }
   ],
   "source": [
    "# Verificar el resultado\n",
    "print(f\"Imputación de P5130 con mediana ({median_p5130}):\")\n",
    "print(X_train['P5130'].isna().sum())  # Verificar cuántos NaN quedan en la columna"
   ]
  },
  {
   "cell_type": "markdown",
   "id": "1f1930a0-a9cf-48d4-9892-4b948d1927c0",
   "metadata": {},
   "source": [
    "#### `P5100` y `P5140`: imputar con KNN"
   ]
  },
  {
   "cell_type": "code",
   "execution_count": 44,
   "id": "978b4482-a356-4812-9a93-5202689a4a92",
   "metadata": {},
   "outputs": [],
   "source": [
    "# Crear el imputer KNN\n",
    "knn_imputer = KNNImputer(n_neighbors=5)\n",
    "\n",
    "# Imputar los valores de P5100 y P5140 usando KNN\n",
    "X_train[['P5100', 'P5140']] = knn_imputer.fit_transform(X_train[['P5100', 'P5140']])"
   ]
  },
  {
   "cell_type": "code",
   "execution_count": 45,
   "id": "f4f1915b-cb78-488e-83b8-96451c27c29c",
   "metadata": {},
   "outputs": [
    {
     "name": "stdout",
     "output_type": "stream",
     "text": [
      "Imputación de P5100 y P5140 con KNN:\n",
      "P5100    0\n",
      "P5140    0\n",
      "dtype: int64\n"
     ]
    }
   ],
   "source": [
    "# Verificar el resultado\n",
    "print(\"Imputación de P5100 y P5140 con KNN:\")\n",
    "print(X_train[['P5100', 'P5140']].isna().sum())  # Verificar cuántos NaN quedan"
   ]
  },
  {
   "cell_type": "markdown",
   "id": "2f68e2d6-5e00-474d-89a2-a1f166c55551",
   "metadata": {},
   "source": [
    "#### missings del comienzo, BORRAR.\n",
    "\n",
    "Reemplazado por lo de arriba\n",
    "\n"
   ]
  },
  {
   "cell_type": "code",
   "execution_count": 46,
   "id": "226079c8-25bd-41bc-9edc-73c5b0da9e50",
   "metadata": {},
   "outputs": [
    {
     "data": {
      "image/png": "[encoded data removed]",
      "text/plain": [
       "<Figure size 1400x800 with 3 Axes>"
      ]
     },
     "metadata": {},
     "output_type": "display_data"
    }
   ],
   "source": [
    "import matplotlib.pyplot as plt\n",
    "import seaborn as sns\n",
    "\n",
    "# Seleccionamos las columnas de interés\n",
    "columns_to_plot = ['P5130', 'P5100', 'P5140']\n",
    "\n",
    "# Crear subgráficos\n",
    "plt.figure(figsize=(14, 8))\n",
    "\n",
    "# Graficar histogramas para cada una de las columnas\n",
    "for i, col in enumerate(columns_to_plot, 1):\n",
    "    plt.subplot(1, 3, i)\n",
    "    sns.histplot(X_train[col], kde=True, bins=30, color='skyblue', edgecolor='black')\n",
    "    plt.title(f'Distribución de {col}')\n",
    "    plt.xlabel('Valor')\n",
    "    plt.ylabel('Frecuencia')\n",
    "\n",
    "# Mostrar el gráfico\n",
    "plt.tight_layout()\n",
    "plt.show()\n"
   ]
  },
  {
   "cell_type": "code",
   "execution_count": null,
   "id": "fcefd88b-1e06-430c-aa97-52bd5d360c7f",
   "metadata": {},
   "outputs": [],
   "source": [
    "# Seleccionar el quintil deseado (por ejemplo, el 95%)\n",
    "quintil = 0.95\n",
    "# el método quantile de Pandas por defecto ignora los valores NaN, por lo que no debería estar considerando los NaN al calcular el umbral.\n",
    "# Calcular el quintil para las columnas de interés\n",
    "thresholds = X_train[columns_to_impute].quantile(quintil)\n",
    "\n",
    "# Mostrar los valores de los umbrales basados en el quintil seleccionado\n",
    "print(f\"Umbrales automáticos (Q{int(quintil * 100)}):\\n\", thresholds)\n",
    "\n",
    "# Ver las filas donde los valores superan el umbral en cada columna (basado en el quintil)\n",
    "rows_to_drop = X_train[\n",
    "    (X_train['P5130'] > thresholds['P5130']) |\n",
    "    (X_train['P5100'] > thresholds['P5100']) |\n",
    "    (X_train['P5140'] > thresholds['P5140'])\n",
    "]\n",
    "\n",
    "# Mostrar cuántas filas serían eliminadas\n",
    "print(f\"Filas a eliminar: {rows_to_drop.shape[0]}\")"
   ]
  },
  {
   "cell_type": "code",
   "execution_count": null,
   "id": "1fbfec54-1046-4098-9078-55f0ffcbf22f",
   "metadata": {},
   "outputs": [],
   "source": [
    "thresholds"
   ]
  },
  {
   "cell_type": "code",
   "execution_count": null,
   "id": "ae624401-0482-4664-89ac-0a821892fa26",
   "metadata": {},
   "outputs": [],
   "source": [
    "-"
   ]
  },
  {
   "cell_type": "code",
   "execution_count": null,
   "id": "13769987-fe2b-47ec-aa8c-4c0c138c084e",
   "metadata": {},
   "outputs": [],
   "source": [
    "print(X_train[columns_to_impute].describe())"
   ]
  },
  {
   "cell_type": "code",
   "execution_count": null,
   "id": "c8135249-f339-4e64-95aa-e1756764a063",
   "metadata": {},
   "outputs": [],
   "source": [
    "# Filtrar las filas donde los valores de las columnas superen los umbrales (Q3)\n",
    "X_train_filtered = X_train[\n",
    "    (X_train['P5130'] <= thresholds['P5130']) &\n",
    "    (X_train['P5100'] <= thresholds['P5100']) &\n",
    "    (X_train['P5140'] <= thresholds['P5140'])\n",
    "]\n",
    "\n",
    "# Verificar las estadísticas después del filtro\n",
    "print(X_train_filtered[columns_to_impute].describe())\n"
   ]
  },
  {
   "cell_type": "code",
   "execution_count": null,
   "id": "b474b77c-9622-4fcc-a3d1-0538edd4217c",
   "metadata": {},
   "outputs": [],
   "source": [
    "X_train_filtered"
   ]
  },
  {
   "cell_type": "code",
   "execution_count": null,
   "id": "c69fadc6-eb46-4248-9df0-82bf3fc1cd56",
   "metadata": {},
   "outputs": [],
   "source": []
  },
  {
   "cell_type": "code",
   "execution_count": null,
   "id": "16c6ceaa-727f-44bf-9a22-5643eb38a887",
   "metadata": {},
   "outputs": [],
   "source": [
    "# Seleccionamos las columnas de interés\n",
    "columns_to_plot = ['P5130', 'P5100', 'P5140']\n",
    "\n",
    "# Crear un gráfico de boxplot para ver los outliers\n",
    "plt.figure(figsize=(12, 6))\n",
    "sns.boxplot(data=X_train_filtered[columns_to_plot], orient=\"h\", palette=\"Set2\")\n",
    "plt.title('Boxplot para detectar outliers')\n",
    "plt.xlabel('Valor')\n",
    "plt.ylabel('Variable')\n",
    "plt.show()"
   ]
  },
  {
   "cell_type": "code",
   "execution_count": null,
   "id": "9604316d-d03c-4d7f-b653-51534f74f04a",
   "metadata": {},
   "outputs": [],
   "source": [
    "# Escalado robusto de las columnas seleccionadas\n",
    "scaler = RobustScaler()\n",
    "scaled_data = scaler.fit_transform(X_train[columns_to_plot])\n",
    "\n",
    "# Aplicar imputación con la mediana para los valores faltantes\n",
    "imputer = SimpleImputer(strategy='median')\n",
    "scaled_data_imputed = imputer.fit_transform(scaled_data)\n",
    "\n",
    "# Reemplazar las columnas escaladas e imputadas en el DataFrame original\n",
    "X_train[columns_to_plot] = scaled_data_imputed\n",
    "\n",
    "# Verificar los cambios\n",
    "print(X_train[columns_to_plot].head())"
   ]
  },
  {
   "cell_type": "code",
   "execution_count": null,
   "id": "7de7a1e9-3e74-48ae-843d-9bcabc6fde21",
   "metadata": {},
   "outputs": [],
   "source": [
    "# Definir las columnas a imputar (asegúrate de que esto esté definido correctamente)\n",
    "#columns_to_impute = ['P5100', 'P5130', 'P5140']\n",
    "\"\"\"\n",
    "# Escalar las columnas antes de la imputación (opcional)\n",
    "scaler = MinMaxScaler()\n",
    "scaled_train = scaler.fit_transform(X_train[columns_to_impute])\n",
    "scaled_test = scaler.transform(test_hogares[columns_to_impute])\n",
    "\n",
    "# Instanciar el imputador KNN (con n_neighbors=5 por defecto)\n",
    "knn_imputer = KNNImputer(n_neighbors=5)\n",
    "\n",
    "# Aplicar KNNImputer a los datos escalados\n",
    "scaled_train_imputed = knn_imputer.fit_transform(scaled_train)\n",
    "scaled_test_imputed = knn_imputer.transform(scaled_test)\n",
    "\n",
    "# Revertir el escalado después de la imputación\n",
    "X_train[columns_to_impute] = scaler.inverse_transform(scaled_train_imputed)\n",
    "test_hogares[columns_to_impute] = scaler.inverse_transform(scaled_test_imputed)\n",
    "\"\"\""
   ]
  },
  {
   "cell_type": "code",
   "execution_count": null,
   "id": "b9825f2b-173b-4ebe-893d-2421a83a6eaf",
   "metadata": {},
   "outputs": [],
   "source": [
    "-"
   ]
  },
  {
   "cell_type": "markdown",
   "id": "22d36858-4d35-4297-8b31-ffd3cfa62f4f",
   "metadata": {},
   "source": [
    "### Model"
   ]
  },
  {
   "cell_type": "code",
   "execution_count": null,
   "id": "719196a8-7caf-4f80-9117-403911bc9fae",
   "metadata": {},
   "outputs": [],
   "source": [
    "# Entrenar el modelo de regresión logística\n",
    "modelo = LogisticRegression(max_iter=1000, random_state=123)\n",
    "modelo.fit(X_train, y_train)\n",
    "\n",
    "# Obtener las probabilidades predichas para el conjunto de test\n",
    "y_pred_proba = modelo.predict_proba(test_hogares)[:, 1]\n",
    "\n",
    "# Calcular precision, recall y thresholds para la curva de precisión-recall\n",
    "precision, recall, thresholds = precision_recall_curve(y_train, modelo.predict_proba(X_train)[:, 1])\n",
    "\n",
    "# Calcular F1-score para cada threshold\n",
    "f1_scores = 2 * (precision * recall) / (precision + recall + 1e-10)  # Evitar división por cero\n",
    "\n",
    "# Encontrar el índice del F1-score máximo\n",
    "optimal_idx = f1_scores.argmax()\n",
    "optimal_threshold = thresholds[optimal_idx]\n",
    "\n",
    "print(f\"Threshold óptimo para F1: {optimal_threshold:.4f}\")\n",
    "print(f\"F1-score óptimo: {f1_scores[optimal_idx]:.4f}\")\n",
    "\n",
    "# Generar predicciones para el conjunto de test usando el threshold óptimo\n",
    "predicciones = (y_pred_proba >= optimal_threshold).astype(int)\n",
    "\n",
    "# Crear el DataFrame de salida con los resultados\n",
    "output_df = pd.DataFrame({\n",
    "    'id': test_ids,\n",
    "    'pobre': predicciones\n",
    "})\n",
    "\n",
    "# Guardar el archivo CSV\n",
    "output_csv_path = \"output_predictions.csv\"\n",
    "output_df.to_csv(output_csv_path, index=False)\n",
    "print(f\"Archivo CSV guardado en: {output_csv_path}\")"
   ]
  },
  {
   "cell_type": "markdown",
   "id": "80855aea-66f9-4a70-90aa-74f6a98ede94",
   "metadata": {},
   "source": []
  }
 ],
 "metadata": {
  "kernelspec": {
   "display_name": "Python 3 (ipykernel)",
   "language": "python",
   "name": "python3"
  },
  "language_info": {
   "codemirror_mode": {
    "name": "ipython",
    "version": 3
   },
   "file_extension": ".py",
   "mimetype": "text/x-python",
   "name": "python",
   "nbconvert_exporter": "python",
   "pygments_lexer": "ipython3",
   "version": "3.12.4"
  }
 },
 "nbformat": 4,
 "nbformat_minor": 5
}
