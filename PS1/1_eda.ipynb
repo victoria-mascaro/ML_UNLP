{
 "cells": [
  {
   "cell_type": "code",
   "execution_count": 31,
   "metadata": {
    "id": "SrB7i4c7v7-b"
   },
   "outputs": [],
   "source": [
    "import pandas as pd\n",
    "import numpy as np\n",
    "\n",
    "## para missing values\n",
    "import missingno as msno"
   ]
  },
  {
   "cell_type": "code",
   "execution_count": 32,
   "metadata": {},
   "outputs": [],
   "source": [
    "import os\n",
    "\n",
    "# Define el path\n",
    "path = r'C:\\Users\\ferma\\OneDrive\\Documentos\\UNLP-ME\\ML_UNLP'\n",
    "\n",
    "# Cambiar el directorio de trabajo\n",
    "os.chdir(path)"
   ]
  },
  {
   "cell_type": "code",
   "execution_count": 33,
   "metadata": {
    "id": "lSONW1cQ8n5M"
   },
   "outputs": [],
   "source": [
    "\n",
    "# Ruta para la carpeta interna que contiene los archivos CSV\n",
    "path_data = path + '\\\\stores'\n",
    "\n",
    "# Ejemplo de uso\n",
    "data_file = path_data + '\\\\page_1.csv'"
   ]
  },
  {
   "cell_type": "code",
   "execution_count": 34,
   "metadata": {
    "colab": {
     "base_uri": "https://localhost:8080/",
     "height": 35
    },
    "executionInfo": {
     "elapsed": 316,
     "status": "ok",
     "timestamp": 1730954898677,
     "user": {
      "displayName": "María Victoria Mascaró",
      "userId": "07190485167329860905"
     },
     "user_tz": 180
    },
    "id": "EN6roQdE84sU",
    "outputId": "608a886f-b507-4209-96c8-fb6d29d96291"
   },
   "outputs": [
    {
     "data": {
      "text/plain": [
       "'C:\\\\Users\\\\ferma\\\\OneDrive\\\\Documentos\\\\UNLP-ME\\\\ML_UNLP\\\\stores\\\\page_1.csv'"
      ]
     },
     "execution_count": 34,
     "metadata": {},
     "output_type": "execute_result"
    }
   ],
   "source": [
    "data_file"
   ]
  },
  {
   "cell_type": "code",
   "execution_count": 35,
   "metadata": {
    "colab": {
     "base_uri": "https://localhost:8080/"
    },
    "executionInfo": {
     "elapsed": 1229,
     "status": "ok",
     "timestamp": 1730955397632,
     "user": {
      "displayName": "María Victoria Mascaró",
      "userId": "07190485167329860905"
     },
     "user_tz": 180
    },
    "id": "vZDir57R91k8",
    "outputId": "aeff7b63-da15-4529-90d1-af0d3618e59a"
   },
   "outputs": [
    {
     "name": "stderr",
     "output_type": "stream",
     "text": [
      "<>:7: SyntaxWarning: invalid escape sequence '\\p'\n",
      "<>:7: SyntaxWarning: invalid escape sequence '\\p'\n",
      "C:\\Users\\Public\\Documents\\Wondershare\\CreatorTemp\\ipykernel_15656\\4215115285.py:7: SyntaxWarning: invalid escape sequence '\\p'\n",
      "  data_file = path_data + f'\\page_{i}.csv'\n"
     ]
    },
    {
     "name": "stdout",
     "output_type": "stream",
     "text": [
      "Archivo page_1.csv cargado y procesado correctamente.\n",
      "Archivo page_2.csv cargado y procesado correctamente.\n",
      "Archivo page_3.csv cargado y procesado correctamente.\n",
      "Archivo page_4.csv cargado y procesado correctamente.\n",
      "Archivo page_5.csv cargado y procesado correctamente.\n",
      "Archivo page_6.csv cargado y procesado correctamente.\n",
      "Archivo page_7.csv cargado y procesado correctamente.\n",
      "Archivo page_8.csv cargado y procesado correctamente.\n",
      "Archivo page_9.csv cargado y procesado correctamente.\n",
      "Archivo page_10.csv cargado y procesado correctamente.\n",
      "Archivos concatenados correctamente.\n"
     ]
    }
   ],
   "source": [
    "# Crear una lista vacía para almacenar los DataFrames\n",
    "dfs = []\n",
    "\n",
    "# Leer archivos page_1.csv a page_10.csv, reemplazar 'NA' por np.nan y concatenarlos\n",
    "for i in range(1, 11):\n",
    "    # Construir la ruta del archivo\n",
    "    data_file = path_data + f'\\page_{i}.csv'\n",
    "\n",
    "    # Leer el archivo CSV\n",
    "    try:\n",
    "        df = pd.read_csv(data_file)\n",
    "\n",
    "        # Reemplazar 'NA' por np.nan\n",
    "        df.replace('NA', np.nan, inplace=True)\n",
    "\n",
    "        # Agregar el DataFrame a la lista\n",
    "        dfs.append(df)\n",
    "        print(f\"Archivo page_{i}.csv cargado y procesado correctamente.\")\n",
    "    except FileNotFoundError:\n",
    "        print(f\"El archivo page_{i}.csv no se encontró en {data_file}\")\n",
    "    except Exception as e:\n",
    "        print(f\"Error al leer el archivo page_{i}.csv: {e}\")\n",
    "\n",
    "# Concatenar todos los DataFrames en uno solo\n",
    "if dfs:\n",
    "  #combined\n",
    "    df = pd.concat(dfs, ignore_index=True)\n",
    "    print(\"Archivos concatenados correctamente.\")\n",
    "    # Aquí puedes realizar operaciones adicionales con 'combined_df'\n",
    "else:\n",
    "    print(\"No se pudieron cargar archivos para concatenar.\")"
   ]
  },
  {
   "cell_type": "code",
   "execution_count": 36,
   "metadata": {
    "colab": {
     "base_uri": "https://localhost:8080/"
    },
    "executionInfo": {
     "elapsed": 310,
     "status": "ok",
     "timestamp": 1730955402617,
     "user": {
      "displayName": "María Victoria Mascaró",
      "userId": "07190485167329860905"
     },
     "user_tz": 180
    },
    "id": "fhrFXluz-VBc",
    "outputId": "5ce783dc-e990-4839-c9a7-7a09e75b6ebb"
   },
   "outputs": [
    {
     "data": {
      "text/plain": [
       "(32177, 178)"
      ]
     },
     "execution_count": 36,
     "metadata": {},
     "output_type": "execute_result"
    }
   ],
   "source": [
    "df.shape"
   ]
  },
  {
   "cell_type": "code",
   "execution_count": 37,
   "metadata": {
    "colab": {
     "base_uri": "https://localhost:8080/"
    },
    "executionInfo": {
     "elapsed": 326,
     "status": "ok",
     "timestamp": 1730955405865,
     "user": {
      "displayName": "María Victoria Mascaró",
      "userId": "07190485167329860905"
     },
     "user_tz": 180
    },
    "id": "DcP5fuGi-IvN",
    "outputId": "738be335-0084-4e1e-dcaf-e64de548ee35"
   },
   "outputs": [
    {
     "name": "stdout",
     "output_type": "stream",
     "text": [
      "<class 'pandas.core.frame.DataFrame'>\n",
      "RangeIndex: 32177 entries, 0 to 32176\n",
      "Columns: 178 entries, Unnamed: 0 to y_total_m_ha\n",
      "dtypes: float64(158), int64(19), object(1)\n",
      "memory usage: 43.7+ MB\n"
     ]
    }
   ],
   "source": [
    "df.info()"
   ]
  },
  {
   "cell_type": "markdown",
   "metadata": {
    "id": "Ivc_ReG1Hm0r"
   },
   "source": [
    "#### Separar columnas numéricas y categóricas"
   ]
  },
  {
   "cell_type": "code",
   "execution_count": 38,
   "metadata": {
    "colab": {
     "base_uri": "https://localhost:8080/",
     "height": 455
    },
    "executionInfo": {
     "elapsed": 359,
     "status": "ok",
     "timestamp": 1730957672977,
     "user": {
      "displayName": "María Victoria Mascaró",
      "userId": "07190485167329860905"
     },
     "user_tz": 180
    },
    "id": "DC7tzaiq-60M",
    "outputId": "755711af-d216-46ec-a5b4-72fef3a0b6c1"
   },
   "outputs": [
    {
     "data": {
      "text/html": [
       "<div>\n",
       "<style scoped>\n",
       "    .dataframe tbody tr th:only-of-type {\n",
       "        vertical-align: middle;\n",
       "    }\n",
       "\n",
       "    .dataframe tbody tr th {\n",
       "        vertical-align: top;\n",
       "    }\n",
       "\n",
       "    .dataframe thead th {\n",
       "        text-align: right;\n",
       "    }\n",
       "</style>\n",
       "<table border=\"1\" class=\"dataframe\">\n",
       "  <thead>\n",
       "    <tr style=\"text-align: right;\">\n",
       "      <th></th>\n",
       "      <th>dominio</th>\n",
       "    </tr>\n",
       "  </thead>\n",
       "  <tbody>\n",
       "    <tr>\n",
       "      <th>0</th>\n",
       "      <td>BOGOTA</td>\n",
       "    </tr>\n",
       "    <tr>\n",
       "      <th>1</th>\n",
       "      <td>BOGOTA</td>\n",
       "    </tr>\n",
       "    <tr>\n",
       "      <th>2</th>\n",
       "      <td>BOGOTA</td>\n",
       "    </tr>\n",
       "    <tr>\n",
       "      <th>3</th>\n",
       "      <td>BOGOTA</td>\n",
       "    </tr>\n",
       "    <tr>\n",
       "      <th>4</th>\n",
       "      <td>BOGOTA</td>\n",
       "    </tr>\n",
       "    <tr>\n",
       "      <th>...</th>\n",
       "      <td>...</td>\n",
       "    </tr>\n",
       "    <tr>\n",
       "      <th>32172</th>\n",
       "      <td>BOGOTA</td>\n",
       "    </tr>\n",
       "    <tr>\n",
       "      <th>32173</th>\n",
       "      <td>BOGOTA</td>\n",
       "    </tr>\n",
       "    <tr>\n",
       "      <th>32174</th>\n",
       "      <td>BOGOTA</td>\n",
       "    </tr>\n",
       "    <tr>\n",
       "      <th>32175</th>\n",
       "      <td>BOGOTA</td>\n",
       "    </tr>\n",
       "    <tr>\n",
       "      <th>32176</th>\n",
       "      <td>BOGOTA</td>\n",
       "    </tr>\n",
       "  </tbody>\n",
       "</table>\n",
       "<p>32177 rows × 1 columns</p>\n",
       "</div>"
      ],
      "text/plain": [
       "      dominio\n",
       "0      BOGOTA\n",
       "1      BOGOTA\n",
       "2      BOGOTA\n",
       "3      BOGOTA\n",
       "4      BOGOTA\n",
       "...       ...\n",
       "32172  BOGOTA\n",
       "32173  BOGOTA\n",
       "32174  BOGOTA\n",
       "32175  BOGOTA\n",
       "32176  BOGOTA\n",
       "\n",
       "[32177 rows x 1 columns]"
      ]
     },
     "execution_count": 38,
     "metadata": {},
     "output_type": "execute_result"
    }
   ],
   "source": [
    "# Paso 2: Separar columnas numéricas y categóricas\n",
    "numerical_cols = df.select_dtypes(include=[np.number])\n",
    "categorical_cols = df.select_dtypes(exclude=[np.number])\n",
    "categorical_cols"
   ]
  },
  {
   "cell_type": "markdown",
   "metadata": {
    "id": "Jlr4Hf0T_I5g"
   },
   "source": [
    "#### si no tiene variabilidad, se puede dropear\n"
   ]
  },
  {
   "cell_type": "code",
   "execution_count": 39,
   "metadata": {
    "colab": {
     "base_uri": "https://localhost:8080/"
    },
    "executionInfo": {
     "elapsed": 311,
     "status": "ok",
     "timestamp": 1730955472398,
     "user": {
      "displayName": "María Victoria Mascaró",
      "userId": "07190485167329860905"
     },
     "user_tz": 180
    },
    "id": "z65_s9Q_-8qO",
    "outputId": "51b57d28-223c-4c11-f2a1-cf4ab7f91697"
   },
   "outputs": [
    {
     "data": {
      "text/plain": [
       "array(['BOGOTA'], dtype=object)"
      ]
     },
     "execution_count": 39,
     "metadata": {},
     "output_type": "execute_result"
    }
   ],
   "source": [
    "df.dominio.unique()"
   ]
  },
  {
   "cell_type": "code",
   "execution_count": 40,
   "metadata": {
    "colab": {
     "base_uri": "https://localhost:8080/",
     "height": 350
    },
    "executionInfo": {
     "elapsed": 804,
     "status": "ok",
     "timestamp": 1730955542603,
     "user": {
      "displayName": "María Victoria Mascaró",
      "userId": "07190485167329860905"
     },
     "user_tz": 180
    },
    "id": "tlBP6CWN_O6C",
    "outputId": "a37d1c22-9675-44e1-d8e5-30731912cf85"
   },
   "outputs": [
    {
     "data": {
      "text/html": [
       "<div>\n",
       "<style scoped>\n",
       "    .dataframe tbody tr th:only-of-type {\n",
       "        vertical-align: middle;\n",
       "    }\n",
       "\n",
       "    .dataframe tbody tr th {\n",
       "        vertical-align: top;\n",
       "    }\n",
       "\n",
       "    .dataframe thead th {\n",
       "        text-align: right;\n",
       "    }\n",
       "</style>\n",
       "<table border=\"1\" class=\"dataframe\">\n",
       "  <thead>\n",
       "    <tr style=\"text-align: right;\">\n",
       "      <th></th>\n",
       "      <th>Unnamed: 0</th>\n",
       "      <th>directorio</th>\n",
       "      <th>secuencia_p</th>\n",
       "      <th>orden</th>\n",
       "      <th>clase</th>\n",
       "      <th>mes</th>\n",
       "      <th>estrato1</th>\n",
       "      <th>sex</th>\n",
       "      <th>age</th>\n",
       "      <th>p6050</th>\n",
       "      <th>...</th>\n",
       "      <th>y_viaticos_m</th>\n",
       "      <th>y_accidentes_m</th>\n",
       "      <th>y_salarySec_m</th>\n",
       "      <th>y_ingLab_m_ha</th>\n",
       "      <th>y_gananciaNeta_m</th>\n",
       "      <th>y_gananciaNetaAgro_m</th>\n",
       "      <th>y_gananciaIndep_m</th>\n",
       "      <th>y_gananciaIndep_m_hu</th>\n",
       "      <th>y_total_m</th>\n",
       "      <th>y_total_m_ha</th>\n",
       "    </tr>\n",
       "  </thead>\n",
       "  <tbody>\n",
       "    <tr>\n",
       "      <th>count</th>\n",
       "      <td>32177.000000</td>\n",
       "      <td>3.217700e+04</td>\n",
       "      <td>32177.000000</td>\n",
       "      <td>32177.000000</td>\n",
       "      <td>32177.0</td>\n",
       "      <td>32177.000000</td>\n",
       "      <td>32177.000000</td>\n",
       "      <td>32177.000000</td>\n",
       "      <td>32177.000000</td>\n",
       "      <td>32177.000000</td>\n",
       "      <td>...</td>\n",
       "      <td>3.990000e+02</td>\n",
       "      <td>3.500000e+01</td>\n",
       "      <td>4.610000e+02</td>\n",
       "      <td>9964.000000</td>\n",
       "      <td>4.904000e+03</td>\n",
       "      <td>0.0</td>\n",
       "      <td>4.904000e+03</td>\n",
       "      <td>4904.000000</td>\n",
       "      <td>1.486800e+04</td>\n",
       "      <td>14868.000000</td>\n",
       "    </tr>\n",
       "    <tr>\n",
       "      <th>mean</th>\n",
       "      <td>1609.350033</td>\n",
       "      <td>4.655587e+06</td>\n",
       "      <td>1.012773</td>\n",
       "      <td>2.411039</td>\n",
       "      <td>1.0</td>\n",
       "      <td>6.404606</td>\n",
       "      <td>2.519377</td>\n",
       "      <td>0.479069</td>\n",
       "      <td>34.398701</td>\n",
       "      <td>2.530161</td>\n",
       "      <td>...</td>\n",
       "      <td>3.096817e+06</td>\n",
       "      <td>4.471214e+05</td>\n",
       "      <td>6.887619e+05</td>\n",
       "      <td>8779.402750</td>\n",
       "      <td>1.350620e+06</td>\n",
       "      <td>NaN</td>\n",
       "      <td>1.350620e+06</td>\n",
       "      <td>8073.790598</td>\n",
       "      <td>1.608661e+06</td>\n",
       "      <td>8504.196798</td>\n",
       "    </tr>\n",
       "    <tr>\n",
       "      <th>std</th>\n",
       "      <td>928.884426</td>\n",
       "      <td>8.256284e+04</td>\n",
       "      <td>0.126114</td>\n",
       "      <td>1.433830</td>\n",
       "      <td>0.0</td>\n",
       "      <td>3.398596</td>\n",
       "      <td>1.004623</td>\n",
       "      <td>0.499569</td>\n",
       "      <td>20.880512</td>\n",
       "      <td>1.654212</td>\n",
       "      <td>...</td>\n",
       "      <td>1.031732e+07</td>\n",
       "      <td>7.379406e+05</td>\n",
       "      <td>1.121704e+06</td>\n",
       "      <td>12850.070292</td>\n",
       "      <td>2.460600e+06</td>\n",
       "      <td>NaN</td>\n",
       "      <td>2.460600e+06</td>\n",
       "      <td>15792.567872</td>\n",
       "      <td>2.425243e+06</td>\n",
       "      <td>13828.288656</td>\n",
       "    </tr>\n",
       "    <tr>\n",
       "      <th>min</th>\n",
       "      <td>1.000000</td>\n",
       "      <td>4.514331e+06</td>\n",
       "      <td>1.000000</td>\n",
       "      <td>1.000000</td>\n",
       "      <td>1.0</td>\n",
       "      <td>1.000000</td>\n",
       "      <td>1.000000</td>\n",
       "      <td>0.000000</td>\n",
       "      <td>0.000000</td>\n",
       "      <td>1.000000</td>\n",
       "      <td>...</td>\n",
       "      <td>0.000000e+00</td>\n",
       "      <td>0.000000e+00</td>\n",
       "      <td>6.000000e+03</td>\n",
       "      <td>48.611111</td>\n",
       "      <td>8.400000e+01</td>\n",
       "      <td>NaN</td>\n",
       "      <td>8.400000e+01</td>\n",
       "      <td>0.471528</td>\n",
       "      <td>8.400000e+01</td>\n",
       "      <td>0.471528</td>\n",
       "    </tr>\n",
       "    <tr>\n",
       "      <th>25%</th>\n",
       "      <td>805.000000</td>\n",
       "      <td>4.584531e+06</td>\n",
       "      <td>1.000000</td>\n",
       "      <td>1.000000</td>\n",
       "      <td>1.0</td>\n",
       "      <td>3.000000</td>\n",
       "      <td>2.000000</td>\n",
       "      <td>0.000000</td>\n",
       "      <td>18.000000</td>\n",
       "      <td>1.000000</td>\n",
       "      <td>...</td>\n",
       "      <td>0.000000e+00</td>\n",
       "      <td>0.000000e+00</td>\n",
       "      <td>1.200000e+05</td>\n",
       "      <td>4212.962891</td>\n",
       "      <td>4.800000e+05</td>\n",
       "      <td>NaN</td>\n",
       "      <td>4.800000e+05</td>\n",
       "      <td>2625.000000</td>\n",
       "      <td>7.974024e+05</td>\n",
       "      <td>3754.178284</td>\n",
       "    </tr>\n",
       "    <tr>\n",
       "      <th>50%</th>\n",
       "      <td>1609.000000</td>\n",
       "      <td>4.655207e+06</td>\n",
       "      <td>1.000000</td>\n",
       "      <td>2.000000</td>\n",
       "      <td>1.0</td>\n",
       "      <td>6.000000</td>\n",
       "      <td>2.000000</td>\n",
       "      <td>0.000000</td>\n",
       "      <td>32.000000</td>\n",
       "      <td>2.000000</td>\n",
       "      <td>...</td>\n",
       "      <td>6.000000e+05</td>\n",
       "      <td>7.000000e+04</td>\n",
       "      <td>3.000000e+05</td>\n",
       "      <td>5033.156982</td>\n",
       "      <td>8.000000e+05</td>\n",
       "      <td>NaN</td>\n",
       "      <td>8.000000e+05</td>\n",
       "      <td>4131.944336</td>\n",
       "      <td>9.890246e+05</td>\n",
       "      <td>4821.993652</td>\n",
       "    </tr>\n",
       "    <tr>\n",
       "      <th>75%</th>\n",
       "      <td>2414.000000</td>\n",
       "      <td>4.728957e+06</td>\n",
       "      <td>1.000000</td>\n",
       "      <td>3.000000</td>\n",
       "      <td>1.0</td>\n",
       "      <td>9.000000</td>\n",
       "      <td>3.000000</td>\n",
       "      <td>1.000000</td>\n",
       "      <td>50.000000</td>\n",
       "      <td>3.000000</td>\n",
       "      <td>...</td>\n",
       "      <td>2.000000e+06</td>\n",
       "      <td>5.950000e+05</td>\n",
       "      <td>7.000000e+05</td>\n",
       "      <td>7991.291992</td>\n",
       "      <td>1.500000e+06</td>\n",
       "      <td>NaN</td>\n",
       "      <td>1.500000e+06</td>\n",
       "      <td>7777.777832</td>\n",
       "      <td>1.545708e+06</td>\n",
       "      <td>7852.961548</td>\n",
       "    </tr>\n",
       "    <tr>\n",
       "      <th>max</th>\n",
       "      <td>3218.000000</td>\n",
       "      <td>4.804455e+06</td>\n",
       "      <td>4.000000</td>\n",
       "      <td>14.000000</td>\n",
       "      <td>1.0</td>\n",
       "      <td>12.000000</td>\n",
       "      <td>6.000000</td>\n",
       "      <td>1.000000</td>\n",
       "      <td>106.000000</td>\n",
       "      <td>9.000000</td>\n",
       "      <td>...</td>\n",
       "      <td>1.300000e+08</td>\n",
       "      <td>3.125000e+06</td>\n",
       "      <td>1.000000e+07</td>\n",
       "      <td>350583.343750</td>\n",
       "      <td>7.000000e+07</td>\n",
       "      <td>NaN</td>\n",
       "      <td>7.000000e+07</td>\n",
       "      <td>340277.781250</td>\n",
       "      <td>7.000000e+07</td>\n",
       "      <td>350583.343750</td>\n",
       "    </tr>\n",
       "  </tbody>\n",
       "</table>\n",
       "<p>8 rows × 177 columns</p>\n",
       "</div>"
      ],
      "text/plain": [
       "         Unnamed: 0    directorio   secuencia_p         orden    clase  \\\n",
       "count  32177.000000  3.217700e+04  32177.000000  32177.000000  32177.0   \n",
       "mean    1609.350033  4.655587e+06      1.012773      2.411039      1.0   \n",
       "std      928.884426  8.256284e+04      0.126114      1.433830      0.0   \n",
       "min        1.000000  4.514331e+06      1.000000      1.000000      1.0   \n",
       "25%      805.000000  4.584531e+06      1.000000      1.000000      1.0   \n",
       "50%     1609.000000  4.655207e+06      1.000000      2.000000      1.0   \n",
       "75%     2414.000000  4.728957e+06      1.000000      3.000000      1.0   \n",
       "max     3218.000000  4.804455e+06      4.000000     14.000000      1.0   \n",
       "\n",
       "                mes      estrato1           sex           age         p6050  \\\n",
       "count  32177.000000  32177.000000  32177.000000  32177.000000  32177.000000   \n",
       "mean       6.404606      2.519377      0.479069     34.398701      2.530161   \n",
       "std        3.398596      1.004623      0.499569     20.880512      1.654212   \n",
       "min        1.000000      1.000000      0.000000      0.000000      1.000000   \n",
       "25%        3.000000      2.000000      0.000000     18.000000      1.000000   \n",
       "50%        6.000000      2.000000      0.000000     32.000000      2.000000   \n",
       "75%        9.000000      3.000000      1.000000     50.000000      3.000000   \n",
       "max       12.000000      6.000000      1.000000    106.000000      9.000000   \n",
       "\n",
       "       ...  y_viaticos_m  y_accidentes_m  y_salarySec_m  y_ingLab_m_ha  \\\n",
       "count  ...  3.990000e+02    3.500000e+01   4.610000e+02    9964.000000   \n",
       "mean   ...  3.096817e+06    4.471214e+05   6.887619e+05    8779.402750   \n",
       "std    ...  1.031732e+07    7.379406e+05   1.121704e+06   12850.070292   \n",
       "min    ...  0.000000e+00    0.000000e+00   6.000000e+03      48.611111   \n",
       "25%    ...  0.000000e+00    0.000000e+00   1.200000e+05    4212.962891   \n",
       "50%    ...  6.000000e+05    7.000000e+04   3.000000e+05    5033.156982   \n",
       "75%    ...  2.000000e+06    5.950000e+05   7.000000e+05    7991.291992   \n",
       "max    ...  1.300000e+08    3.125000e+06   1.000000e+07  350583.343750   \n",
       "\n",
       "       y_gananciaNeta_m  y_gananciaNetaAgro_m  y_gananciaIndep_m  \\\n",
       "count      4.904000e+03                   0.0       4.904000e+03   \n",
       "mean       1.350620e+06                   NaN       1.350620e+06   \n",
       "std        2.460600e+06                   NaN       2.460600e+06   \n",
       "min        8.400000e+01                   NaN       8.400000e+01   \n",
       "25%        4.800000e+05                   NaN       4.800000e+05   \n",
       "50%        8.000000e+05                   NaN       8.000000e+05   \n",
       "75%        1.500000e+06                   NaN       1.500000e+06   \n",
       "max        7.000000e+07                   NaN       7.000000e+07   \n",
       "\n",
       "       y_gananciaIndep_m_hu     y_total_m   y_total_m_ha  \n",
       "count           4904.000000  1.486800e+04   14868.000000  \n",
       "mean            8073.790598  1.608661e+06    8504.196798  \n",
       "std            15792.567872  2.425243e+06   13828.288656  \n",
       "min                0.471528  8.400000e+01       0.471528  \n",
       "25%             2625.000000  7.974024e+05    3754.178284  \n",
       "50%             4131.944336  9.890246e+05    4821.993652  \n",
       "75%             7777.777832  1.545708e+06    7852.961548  \n",
       "max           340277.781250  7.000000e+07  350583.343750  \n",
       "\n",
       "[8 rows x 177 columns]"
      ]
     },
     "execution_count": 40,
     "metadata": {},
     "output_type": "execute_result"
    }
   ],
   "source": [
    "df.describe()"
   ]
  },
  {
   "cell_type": "code",
   "execution_count": 41,
   "metadata": {
    "id": "FM-tUihf_pGh"
   },
   "outputs": [],
   "source": [
    "# Paso 3: Estadísticas descriptivas\n",
    "# Estadísticas para numéricas\n",
    "numerical_summary = numerical_cols.describe().T  # Transpuesta para mejor visualización\n",
    "numerical_summary['missing_percentage'] = 100 * (numerical_cols.isnull().sum() / len(numerical_cols))"
   ]
  },
  {
   "cell_type": "code",
   "execution_count": 42,
   "metadata": {
    "colab": {
     "base_uri": "https://localhost:8080/",
     "height": 424
    },
    "executionInfo": {
     "elapsed": 500,
     "status": "ok",
     "timestamp": 1730955626904,
     "user": {
      "displayName": "María Victoria Mascaró",
      "userId": "07190485167329860905"
     },
     "user_tz": 180
    },
    "id": "M-tDhGVU_rc1",
    "outputId": "99c345dd-cf91-41a2-9ec7-2df4bf31c4a1"
   },
   "outputs": [
    {
     "data": {
      "text/html": [
       "<div>\n",
       "<style scoped>\n",
       "    .dataframe tbody tr th:only-of-type {\n",
       "        vertical-align: middle;\n",
       "    }\n",
       "\n",
       "    .dataframe tbody tr th {\n",
       "        vertical-align: top;\n",
       "    }\n",
       "\n",
       "    .dataframe thead th {\n",
       "        text-align: right;\n",
       "    }\n",
       "</style>\n",
       "<table border=\"1\" class=\"dataframe\">\n",
       "  <thead>\n",
       "    <tr style=\"text-align: right;\">\n",
       "      <th></th>\n",
       "      <th>count</th>\n",
       "      <th>mean</th>\n",
       "      <th>std</th>\n",
       "      <th>min</th>\n",
       "      <th>25%</th>\n",
       "      <th>50%</th>\n",
       "      <th>75%</th>\n",
       "      <th>max</th>\n",
       "      <th>missing_percentage</th>\n",
       "    </tr>\n",
       "  </thead>\n",
       "  <tbody>\n",
       "    <tr>\n",
       "      <th>Unnamed: 0</th>\n",
       "      <td>32177.0</td>\n",
       "      <td>1.609350e+03</td>\n",
       "      <td>9.288844e+02</td>\n",
       "      <td>1.000000e+00</td>\n",
       "      <td>8.050000e+02</td>\n",
       "      <td>1.609000e+03</td>\n",
       "      <td>2.414000e+03</td>\n",
       "      <td>3.218000e+03</td>\n",
       "      <td>0.000000</td>\n",
       "    </tr>\n",
       "    <tr>\n",
       "      <th>directorio</th>\n",
       "      <td>32177.0</td>\n",
       "      <td>4.655587e+06</td>\n",
       "      <td>8.256284e+04</td>\n",
       "      <td>4.514331e+06</td>\n",
       "      <td>4.584531e+06</td>\n",
       "      <td>4.655207e+06</td>\n",
       "      <td>4.728957e+06</td>\n",
       "      <td>4.804455e+06</td>\n",
       "      <td>0.000000</td>\n",
       "    </tr>\n",
       "    <tr>\n",
       "      <th>secuencia_p</th>\n",
       "      <td>32177.0</td>\n",
       "      <td>1.012773e+00</td>\n",
       "      <td>1.261139e-01</td>\n",
       "      <td>1.000000e+00</td>\n",
       "      <td>1.000000e+00</td>\n",
       "      <td>1.000000e+00</td>\n",
       "      <td>1.000000e+00</td>\n",
       "      <td>4.000000e+00</td>\n",
       "      <td>0.000000</td>\n",
       "    </tr>\n",
       "    <tr>\n",
       "      <th>orden</th>\n",
       "      <td>32177.0</td>\n",
       "      <td>2.411039e+00</td>\n",
       "      <td>1.433830e+00</td>\n",
       "      <td>1.000000e+00</td>\n",
       "      <td>1.000000e+00</td>\n",
       "      <td>2.000000e+00</td>\n",
       "      <td>3.000000e+00</td>\n",
       "      <td>1.400000e+01</td>\n",
       "      <td>0.000000</td>\n",
       "    </tr>\n",
       "    <tr>\n",
       "      <th>clase</th>\n",
       "      <td>32177.0</td>\n",
       "      <td>1.000000e+00</td>\n",
       "      <td>0.000000e+00</td>\n",
       "      <td>1.000000e+00</td>\n",
       "      <td>1.000000e+00</td>\n",
       "      <td>1.000000e+00</td>\n",
       "      <td>1.000000e+00</td>\n",
       "      <td>1.000000e+00</td>\n",
       "      <td>0.000000</td>\n",
       "    </tr>\n",
       "    <tr>\n",
       "      <th>...</th>\n",
       "      <td>...</td>\n",
       "      <td>...</td>\n",
       "      <td>...</td>\n",
       "      <td>...</td>\n",
       "      <td>...</td>\n",
       "      <td>...</td>\n",
       "      <td>...</td>\n",
       "      <td>...</td>\n",
       "      <td>...</td>\n",
       "    </tr>\n",
       "    <tr>\n",
       "      <th>y_gananciaNetaAgro_m</th>\n",
       "      <td>0.0</td>\n",
       "      <td>NaN</td>\n",
       "      <td>NaN</td>\n",
       "      <td>NaN</td>\n",
       "      <td>NaN</td>\n",
       "      <td>NaN</td>\n",
       "      <td>NaN</td>\n",
       "      <td>NaN</td>\n",
       "      <td>100.000000</td>\n",
       "    </tr>\n",
       "    <tr>\n",
       "      <th>y_gananciaIndep_m</th>\n",
       "      <td>4904.0</td>\n",
       "      <td>1.350620e+06</td>\n",
       "      <td>2.460600e+06</td>\n",
       "      <td>8.400000e+01</td>\n",
       "      <td>4.800000e+05</td>\n",
       "      <td>8.000000e+05</td>\n",
       "      <td>1.500000e+06</td>\n",
       "      <td>7.000000e+07</td>\n",
       "      <td>84.759300</td>\n",
       "    </tr>\n",
       "    <tr>\n",
       "      <th>y_gananciaIndep_m_hu</th>\n",
       "      <td>4904.0</td>\n",
       "      <td>8.073791e+03</td>\n",
       "      <td>1.579257e+04</td>\n",
       "      <td>4.715278e-01</td>\n",
       "      <td>2.625000e+03</td>\n",
       "      <td>4.131944e+03</td>\n",
       "      <td>7.777778e+03</td>\n",
       "      <td>3.402778e+05</td>\n",
       "      <td>84.759300</td>\n",
       "    </tr>\n",
       "    <tr>\n",
       "      <th>y_total_m</th>\n",
       "      <td>14868.0</td>\n",
       "      <td>1.608661e+06</td>\n",
       "      <td>2.425243e+06</td>\n",
       "      <td>8.400000e+01</td>\n",
       "      <td>7.974024e+05</td>\n",
       "      <td>9.890246e+05</td>\n",
       "      <td>1.545708e+06</td>\n",
       "      <td>7.000000e+07</td>\n",
       "      <td>53.793082</td>\n",
       "    </tr>\n",
       "    <tr>\n",
       "      <th>y_total_m_ha</th>\n",
       "      <td>14868.0</td>\n",
       "      <td>8.504197e+03</td>\n",
       "      <td>1.382829e+04</td>\n",
       "      <td>4.715278e-01</td>\n",
       "      <td>3.754178e+03</td>\n",
       "      <td>4.821994e+03</td>\n",
       "      <td>7.852962e+03</td>\n",
       "      <td>3.505833e+05</td>\n",
       "      <td>53.793082</td>\n",
       "    </tr>\n",
       "  </tbody>\n",
       "</table>\n",
       "<p>177 rows × 9 columns</p>\n",
       "</div>"
      ],
      "text/plain": [
       "                        count          mean           std           min  \\\n",
       "Unnamed: 0            32177.0  1.609350e+03  9.288844e+02  1.000000e+00   \n",
       "directorio            32177.0  4.655587e+06  8.256284e+04  4.514331e+06   \n",
       "secuencia_p           32177.0  1.012773e+00  1.261139e-01  1.000000e+00   \n",
       "orden                 32177.0  2.411039e+00  1.433830e+00  1.000000e+00   \n",
       "clase                 32177.0  1.000000e+00  0.000000e+00  1.000000e+00   \n",
       "...                       ...           ...           ...           ...   \n",
       "y_gananciaNetaAgro_m      0.0           NaN           NaN           NaN   \n",
       "y_gananciaIndep_m      4904.0  1.350620e+06  2.460600e+06  8.400000e+01   \n",
       "y_gananciaIndep_m_hu   4904.0  8.073791e+03  1.579257e+04  4.715278e-01   \n",
       "y_total_m             14868.0  1.608661e+06  2.425243e+06  8.400000e+01   \n",
       "y_total_m_ha          14868.0  8.504197e+03  1.382829e+04  4.715278e-01   \n",
       "\n",
       "                               25%           50%           75%           max  \\\n",
       "Unnamed: 0            8.050000e+02  1.609000e+03  2.414000e+03  3.218000e+03   \n",
       "directorio            4.584531e+06  4.655207e+06  4.728957e+06  4.804455e+06   \n",
       "secuencia_p           1.000000e+00  1.000000e+00  1.000000e+00  4.000000e+00   \n",
       "orden                 1.000000e+00  2.000000e+00  3.000000e+00  1.400000e+01   \n",
       "clase                 1.000000e+00  1.000000e+00  1.000000e+00  1.000000e+00   \n",
       "...                            ...           ...           ...           ...   \n",
       "y_gananciaNetaAgro_m           NaN           NaN           NaN           NaN   \n",
       "y_gananciaIndep_m     4.800000e+05  8.000000e+05  1.500000e+06  7.000000e+07   \n",
       "y_gananciaIndep_m_hu  2.625000e+03  4.131944e+03  7.777778e+03  3.402778e+05   \n",
       "y_total_m             7.974024e+05  9.890246e+05  1.545708e+06  7.000000e+07   \n",
       "y_total_m_ha          3.754178e+03  4.821994e+03  7.852962e+03  3.505833e+05   \n",
       "\n",
       "                      missing_percentage  \n",
       "Unnamed: 0                      0.000000  \n",
       "directorio                      0.000000  \n",
       "secuencia_p                     0.000000  \n",
       "orden                           0.000000  \n",
       "clase                           0.000000  \n",
       "...                                  ...  \n",
       "y_gananciaNetaAgro_m          100.000000  \n",
       "y_gananciaIndep_m              84.759300  \n",
       "y_gananciaIndep_m_hu           84.759300  \n",
       "y_total_m                      53.793082  \n",
       "y_total_m_ha                   53.793082  \n",
       "\n",
       "[177 rows x 9 columns]"
      ]
     },
     "execution_count": 42,
     "metadata": {},
     "output_type": "execute_result"
    }
   ],
   "source": [
    "numerical_summary"
   ]
  },
  {
   "cell_type": "markdown",
   "metadata": {
    "id": "LqkjwrfnEk9U"
   },
   "source": [
    "#### Missing Values\n",
    "\n",
    "Variables con más del 90% de Missing Values"
   ]
  },
  {
   "cell_type": "code",
   "execution_count": 43,
   "metadata": {
    "colab": {
     "base_uri": "https://localhost:8080/",
     "height": 746
    },
    "executionInfo": {
     "elapsed": 5549,
     "status": "ok",
     "timestamp": 1730956873126,
     "user": {
      "displayName": "María Victoria Mascaró",
      "userId": "07190485167329860905"
     },
     "user_tz": 180
    },
    "id": "WOdqBdumBxUn",
    "outputId": "e5268abc-121f-49f4-e153-db8c23eb95ce"
   },
   "outputs": [
    {
     "data": {
      "text/plain": [
       "<Axes: >"
      ]
     },
     "execution_count": 43,
     "metadata": {},
     "output_type": "execute_result"
    },
    {
     "data": {
      "image/png": "[encoded data removed]",
      "text/plain": [
       "<Figure size 2500x1000 with 3 Axes>"
      ]
     },
     "metadata": {},
     "output_type": "display_data"
    }
   ],
   "source": [
    "# Calcular el porcentaje de valores nulos por columna\n",
    "missing_percentage = df.isnull().mean() * 100\n",
    "\n",
    "# Filtrar las columnas con más del 90% de valores faltantes\n",
    "columns_above_90_missing = missing_percentage[missing_percentage > 90].index.tolist()\n",
    "\n",
    "# Crear un nuevo DataFrame solo con las columnas que tienen más del 90% de valores nulos\n",
    "df_high_missing = df[columns_above_90_missing]\n",
    "\n",
    "# Visualizar el mapa de barras para estas columnas con más del 90% de valores faltantes\n",
    "msno.bar(df_high_missing, sort=\"ascending\", fontsize=12, color='tomato')"
   ]
  },
  {
   "cell_type": "code",
   "execution_count": 44,
   "metadata": {
    "colab": {
     "base_uri": "https://localhost:8080/"
    },
    "executionInfo": {
     "elapsed": 344,
     "status": "ok",
     "timestamp": 1730956529115,
     "user": {
      "displayName": "María Victoria Mascaró",
      "userId": "07190485167329860905"
     },
     "user_tz": 180
    },
    "id": "kh08E3czDHGn",
    "outputId": "c5eadcdb-10b3-4162-b21f-62ef9baed48a"
   },
   "outputs": [
    {
     "data": {
      "text/plain": [
       "array([nan])"
      ]
     },
     "execution_count": 44,
     "metadata": {},
     "output_type": "execute_result"
    }
   ],
   "source": [
    "df.p550.unique()"
   ]
  },
  {
   "cell_type": "markdown",
   "metadata": {
    "id": "HxDrSD-CE9cb"
   },
   "source": [
    "#### 1. Identificar columnas con pocos valores únicos (posiblemente codificadas)\n",
    "\n",
    "Una buena indicación de que una columna está codificada es que tiene pocos valores únicos (es decir, toma un número limitado de categorías). Esto es común en variables categóricas que fueron codificadas numéricamente."
   ]
  },
  {
   "cell_type": "code",
   "execution_count": 45,
   "metadata": {
    "colab": {
     "base_uri": "https://localhost:8080/"
    },
    "executionInfo": {
     "elapsed": 324,
     "status": "ok",
     "timestamp": 1730957630828,
     "user": {
      "displayName": "María Victoria Mascaró",
      "userId": "07190485167329860905"
     },
     "user_tz": 180
    },
    "id": "EIuKjoBSv__r",
    "outputId": "d2694168-2f9c-46e2-ba2f-3002d0780e50"
   },
   "outputs": [
    {
     "name": "stdout",
     "output_type": "stream",
     "text": [
      "Columnas codificadas: Index(['secuencia_p', 'clase', 'dominio', 'estrato1', 'sex', 'p6050', 'p6090',\n",
      "       'p6100', 'p6210', 'p6240', 'relab', 'p6510', 'p6510s2', 'p6545',\n",
      "       'p6545s2', 'p6580', 'p6580s2', 'p6585s1', 'p6585s1a2', 'p6585s2',\n",
      "       'p6585s2a2', 'p6585s3', 'p6585s3a2', 'p6585s4', 'p6585s4a2', 'p6590',\n",
      "       'p6600', 'p6610', 'p6620', 'p6630s1', 'p6630s2', 'p6630s3', 'p6630s4',\n",
      "       'p6630s6', 'p6760', 'p550', 'p6870', 'p6920', 'p7040', 'p7050', 'p7090',\n",
      "       'p7110', 'p7120', 'p7140s1', 'p7140s2', 'p7150', 'p7160', 'p7310',\n",
      "       'p7350', 'p7422', 'p7472', 'p7495', 'p7500s1', 'p7500s2', 'p7500s3',\n",
      "       'p7505', 'p7510s1', 'p7510s2', 'p7510s3', 'p7510s5', 'p7510s6',\n",
      "       'p7510s7', 'pet', 'ina', 'cclasnr2', 'cclasnr3', 'cclasnr4', 'cclasnr5',\n",
      "       'cclasnr6', 'cclasnr7', 'cclasnr8', 'cclasnr11', 'depto',\n",
      "       'maxEducLevel', 'college', 'regSalud', 'cotPension', 'wap', 'ocu',\n",
      "       'dsi', 'pea', 'inac', 'formal', 'informal', 'cuentaPropia',\n",
      "       'microEmpresa', 'sizeFirm', 'y_gananciaNetaAgro_m'],\n",
      "      dtype='object')\n"
     ]
    }
   ],
   "source": [
    "# Contar los valores únicos por columna\n",
    "unique_counts = df.nunique()\n",
    "\n",
    "# Definir un umbral para identificar las columnas con pocos valores únicos\n",
    "threshold = 10  # Puedes ajustar este umbral según el contexto de tus datos\n",
    "codified_columns = unique_counts[unique_counts <= threshold].index\n",
    "\n",
    "print(f\"Columnas codificadas: {codified_columns}\")"
   ]
  },
  {
   "cell_type": "markdown",
   "metadata": {
    "id": "5-fH9tc-ImN6"
   },
   "source": [
    "#### Target?\n",
    "\n",
    "en búsqueda del Targuet perdido...\n",
    "\n",
    "Como el objetivo es predecir los salarios, y siendo que los mismos tienen muchos valires diferentes, tendiente a variable continua:"
   ]
  },
  {
   "cell_type": "code",
   "execution_count": 46,
   "metadata": {
    "colab": {
     "base_uri": "https://localhost:8080/"
    },
    "executionInfo": {
     "elapsed": 356,
     "status": "ok",
     "timestamp": 1730958095319,
     "user": {
      "displayName": "María Victoria Mascaró",
      "userId": "07190485167329860905"
     },
     "user_tz": 180
    },
    "id": "DiV5tpDnIopn",
    "outputId": "536e8fcb-f545-424b-84e5-020635a7e108"
   },
   "outputs": [
    {
     "name": "stdout",
     "output_type": "stream",
     "text": [
      "Columnas con más de 550 valores únicos: Index(['Unnamed: 0', 'directorio', 'p6500', 'impa', 'ingtotob', 'ingtotes',\n",
      "       'ingtot', 'fex_c', 'fex_dpto', 'y_salary_m', 'y_salary_m_hu',\n",
      "       'y_ingLab_m', 'y_ingLab_m_ha', 'y_gananciaIndep_m_hu', 'y_total_m',\n",
      "       'y_total_m_ha'],\n",
      "      dtype='object')\n"
     ]
    }
   ],
   "source": [
    "# Contar los valores únicos por columna\n",
    "unique_counts = df.nunique()\n",
    "\n",
    "# Definir un umbral para identificar las columnas con muchos valores únicos\n",
    "threshold = 550  # Ajusta este umbral según el contexto de tus datos\n",
    "\n",
    "# Seleccionar las columnas que tengan más valores únicos que el umbral\n",
    "columns_with_many_uniques = unique_counts[unique_counts > threshold].index\n",
    "\n",
    "print(f\"Columnas con más de {threshold} valores únicos: {columns_with_many_uniques}\")"
   ]
  },
  {
   "cell_type": "code",
   "execution_count": 47,
   "metadata": {
    "colab": {
     "base_uri": "https://localhost:8080/"
    },
    "executionInfo": {
     "elapsed": 302,
     "status": "ok",
     "timestamp": 1730958156623,
     "user": {
      "displayName": "María Victoria Mascaró",
      "userId": "07190485167329860905"
     },
     "user_tz": 180
    },
    "id": "ec9o3ArEJH6V",
    "outputId": "660b6318-8c50-4b4b-f2f1-d8ed49def506"
   },
   "outputs": [
    {
     "name": "stdout",
     "output_type": "stream",
     "text": [
      "El DataFrame filtrado con columnas que tienen más de 5000 valores únicos:\n",
      "   directorio        ingtot  y_ingLab_m_ha  y_total_m_ha\n",
      "0     4514331  0.000000e+00            NaN           NaN\n",
      "1     4514331  1.840833e+06    8404.320312   8404.320312\n",
      "2     4514332           NaN            NaN           NaN\n",
      "3     4514332           NaN            NaN           NaN\n",
      "4     4514332  0.000000e+00            NaN           NaN\n"
     ]
    }
   ],
   "source": [
    "# Contar los valores únicos por columna\n",
    "unique_counts = df.nunique()\n",
    "\n",
    "# Definir un umbral para identificar las columnas con muchos valores únicos\n",
    "threshold = 5000  # Ajusta este umbral según el contexto de tus datos\n",
    "\n",
    "# Seleccionar las columnas que tengan más valores únicos que el umbral\n",
    "columns_with_many_uniques = unique_counts[unique_counts > threshold].index\n",
    "\n",
    "# Filtrar el DataFrame para quedarnos solo con las columnas que cumplen la condición\n",
    "df_filtered = df[columns_with_many_uniques]\n",
    "\n",
    "# Mostrar el DataFrame filtrado\n",
    "print(f\"El DataFrame filtrado con columnas que tienen más de {threshold} valores únicos:\")\n",
    "print(df_filtered.head())  # Muestra las primeras filas para verificar\n"
   ]
  },
  {
   "cell_type": "markdown",
   "metadata": {
    "id": "TLdkeoXFJm5K"
   },
   "source": [
    "##### columnas que comienzan con ing o y_ que dan idea de target"
   ]
  },
  {
   "cell_type": "code",
   "execution_count": 48,
   "metadata": {
    "colab": {
     "base_uri": "https://localhost:8080/",
     "height": 322
    },
    "executionInfo": {
     "elapsed": 286,
     "status": "ok",
     "timestamp": 1730958286121,
     "user": {
      "displayName": "María Victoria Mascaró",
      "userId": "07190485167329860905"
     },
     "user_tz": 180
    },
    "id": "vRmxQeZeJtGW",
    "outputId": "06adb4b6-68f0-4c49-99a5-225e0b0a0b1e"
   },
   "outputs": [
    {
     "name": "stdout",
     "output_type": "stream",
     "text": [
      "El DataFrame filtrado con columnas que empiezan con .str, ing o y_:\n"
     ]
    },
    {
     "data": {
      "text/html": [
       "<div>\n",
       "<style scoped>\n",
       "    .dataframe tbody tr th:only-of-type {\n",
       "        vertical-align: middle;\n",
       "    }\n",
       "\n",
       "    .dataframe tbody tr th {\n",
       "        vertical-align: top;\n",
       "    }\n",
       "\n",
       "    .dataframe thead th {\n",
       "        text-align: right;\n",
       "    }\n",
       "</style>\n",
       "<table border=\"1\" class=\"dataframe\">\n",
       "  <thead>\n",
       "    <tr style=\"text-align: right;\">\n",
       "      <th></th>\n",
       "      <th>ingtotob</th>\n",
       "      <th>ingtotes</th>\n",
       "      <th>ingtot</th>\n",
       "      <th>y_salary_m</th>\n",
       "      <th>y_salary_m_hu</th>\n",
       "      <th>y_ingLab_m</th>\n",
       "      <th>y_horasExtras_m</th>\n",
       "      <th>y_especie_m</th>\n",
       "      <th>y_vivienda_m</th>\n",
       "      <th>y_otros_m</th>\n",
       "      <th>...</th>\n",
       "      <th>y_viaticos_m</th>\n",
       "      <th>y_accidentes_m</th>\n",
       "      <th>y_salarySec_m</th>\n",
       "      <th>y_ingLab_m_ha</th>\n",
       "      <th>y_gananciaNeta_m</th>\n",
       "      <th>y_gananciaNetaAgro_m</th>\n",
       "      <th>y_gananciaIndep_m</th>\n",
       "      <th>y_gananciaIndep_m_hu</th>\n",
       "      <th>y_total_m</th>\n",
       "      <th>y_total_m_ha</th>\n",
       "    </tr>\n",
       "  </thead>\n",
       "  <tbody>\n",
       "    <tr>\n",
       "      <th>0</th>\n",
       "      <td>0.000000e+00</td>\n",
       "      <td>NaN</td>\n",
       "      <td>0.000000e+00</td>\n",
       "      <td>NaN</td>\n",
       "      <td>NaN</td>\n",
       "      <td>NaN</td>\n",
       "      <td>NaN</td>\n",
       "      <td>NaN</td>\n",
       "      <td>NaN</td>\n",
       "      <td>NaN</td>\n",
       "      <td>...</td>\n",
       "      <td>NaN</td>\n",
       "      <td>NaN</td>\n",
       "      <td>NaN</td>\n",
       "      <td>NaN</td>\n",
       "      <td>NaN</td>\n",
       "      <td>NaN</td>\n",
       "      <td>NaN</td>\n",
       "      <td>NaN</td>\n",
       "      <td>NaN</td>\n",
       "      <td>NaN</td>\n",
       "    </tr>\n",
       "    <tr>\n",
       "      <th>1</th>\n",
       "      <td>1.840833e+06</td>\n",
       "      <td>NaN</td>\n",
       "      <td>1.840833e+06</td>\n",
       "      <td>1300000.0</td>\n",
       "      <td>6740.740723</td>\n",
       "      <td>1620833.25</td>\n",
       "      <td>NaN</td>\n",
       "      <td>NaN</td>\n",
       "      <td>NaN</td>\n",
       "      <td>NaN</td>\n",
       "      <td>...</td>\n",
       "      <td>NaN</td>\n",
       "      <td>NaN</td>\n",
       "      <td>NaN</td>\n",
       "      <td>8404.320312</td>\n",
       "      <td>NaN</td>\n",
       "      <td>NaN</td>\n",
       "      <td>NaN</td>\n",
       "      <td>NaN</td>\n",
       "      <td>1620833.25</td>\n",
       "      <td>8404.320312</td>\n",
       "    </tr>\n",
       "    <tr>\n",
       "      <th>2</th>\n",
       "      <td>NaN</td>\n",
       "      <td>NaN</td>\n",
       "      <td>NaN</td>\n",
       "      <td>NaN</td>\n",
       "      <td>NaN</td>\n",
       "      <td>NaN</td>\n",
       "      <td>NaN</td>\n",
       "      <td>NaN</td>\n",
       "      <td>NaN</td>\n",
       "      <td>NaN</td>\n",
       "      <td>...</td>\n",
       "      <td>NaN</td>\n",
       "      <td>NaN</td>\n",
       "      <td>NaN</td>\n",
       "      <td>NaN</td>\n",
       "      <td>NaN</td>\n",
       "      <td>NaN</td>\n",
       "      <td>NaN</td>\n",
       "      <td>NaN</td>\n",
       "      <td>NaN</td>\n",
       "      <td>NaN</td>\n",
       "    </tr>\n",
       "    <tr>\n",
       "      <th>3</th>\n",
       "      <td>NaN</td>\n",
       "      <td>NaN</td>\n",
       "      <td>NaN</td>\n",
       "      <td>NaN</td>\n",
       "      <td>NaN</td>\n",
       "      <td>NaN</td>\n",
       "      <td>NaN</td>\n",
       "      <td>NaN</td>\n",
       "      <td>NaN</td>\n",
       "      <td>NaN</td>\n",
       "      <td>...</td>\n",
       "      <td>NaN</td>\n",
       "      <td>NaN</td>\n",
       "      <td>NaN</td>\n",
       "      <td>NaN</td>\n",
       "      <td>NaN</td>\n",
       "      <td>NaN</td>\n",
       "      <td>NaN</td>\n",
       "      <td>NaN</td>\n",
       "      <td>NaN</td>\n",
       "      <td>NaN</td>\n",
       "    </tr>\n",
       "    <tr>\n",
       "      <th>4</th>\n",
       "      <td>0.000000e+00</td>\n",
       "      <td>NaN</td>\n",
       "      <td>0.000000e+00</td>\n",
       "      <td>NaN</td>\n",
       "      <td>NaN</td>\n",
       "      <td>NaN</td>\n",
       "      <td>NaN</td>\n",
       "      <td>NaN</td>\n",
       "      <td>NaN</td>\n",
       "      <td>NaN</td>\n",
       "      <td>...</td>\n",
       "      <td>NaN</td>\n",
       "      <td>NaN</td>\n",
       "      <td>NaN</td>\n",
       "      <td>NaN</td>\n",
       "      <td>NaN</td>\n",
       "      <td>NaN</td>\n",
       "      <td>NaN</td>\n",
       "      <td>NaN</td>\n",
       "      <td>NaN</td>\n",
       "      <td>NaN</td>\n",
       "    </tr>\n",
       "  </tbody>\n",
       "</table>\n",
       "<p>5 rows × 29 columns</p>\n",
       "</div>"
      ],
      "text/plain": [
       "       ingtotob  ingtotes        ingtot  y_salary_m  y_salary_m_hu  \\\n",
       "0  0.000000e+00       NaN  0.000000e+00         NaN            NaN   \n",
       "1  1.840833e+06       NaN  1.840833e+06   1300000.0    6740.740723   \n",
       "2           NaN       NaN           NaN         NaN            NaN   \n",
       "3           NaN       NaN           NaN         NaN            NaN   \n",
       "4  0.000000e+00       NaN  0.000000e+00         NaN            NaN   \n",
       "\n",
       "   y_ingLab_m  y_horasExtras_m  y_especie_m  y_vivienda_m  y_otros_m  ...  \\\n",
       "0         NaN              NaN          NaN           NaN        NaN  ...   \n",
       "1  1620833.25              NaN          NaN           NaN        NaN  ...   \n",
       "2         NaN              NaN          NaN           NaN        NaN  ...   \n",
       "3         NaN              NaN          NaN           NaN        NaN  ...   \n",
       "4         NaN              NaN          NaN           NaN        NaN  ...   \n",
       "\n",
       "   y_viaticos_m  y_accidentes_m  y_salarySec_m  y_ingLab_m_ha  \\\n",
       "0           NaN             NaN            NaN            NaN   \n",
       "1           NaN             NaN            NaN    8404.320312   \n",
       "2           NaN             NaN            NaN            NaN   \n",
       "3           NaN             NaN            NaN            NaN   \n",
       "4           NaN             NaN            NaN            NaN   \n",
       "\n",
       "   y_gananciaNeta_m  y_gananciaNetaAgro_m  y_gananciaIndep_m  \\\n",
       "0               NaN                   NaN                NaN   \n",
       "1               NaN                   NaN                NaN   \n",
       "2               NaN                   NaN                NaN   \n",
       "3               NaN                   NaN                NaN   \n",
       "4               NaN                   NaN                NaN   \n",
       "\n",
       "   y_gananciaIndep_m_hu   y_total_m  y_total_m_ha  \n",
       "0                   NaN         NaN           NaN  \n",
       "1                   NaN  1620833.25   8404.320312  \n",
       "2                   NaN         NaN           NaN  \n",
       "3                   NaN         NaN           NaN  \n",
       "4                   NaN         NaN           NaN  \n",
       "\n",
       "[5 rows x 29 columns]"
      ]
     },
     "execution_count": 48,
     "metadata": {},
     "output_type": "execute_result"
    }
   ],
   "source": [
    "# Filtrar columnas cuyos nombres comienzan con .str, ing o y_\n",
    "columns_filtered = [col for col in df.columns if col.startswith(('.str', 'ing', 'y_'))]\n",
    "\n",
    "# Crear un nuevo DataFrame con las columnas filtradas\n",
    "df_filtered = df[columns_filtered]\n",
    "\n",
    "# Mostrar el DataFrame filtrado\n",
    "print(\"El DataFrame filtrado con columnas que empiezan con .str, ing o y_:\")\n",
    "df_filtered.head()  # Muestra las primeras filas para verificar\n"
   ]
  },
  {
   "cell_type": "markdown",
   "metadata": {
    "id": "vtR1iuAIKPPx"
   },
   "source": [
    "Podria ser ingtot"
   ]
  },
  {
   "cell_type": "markdown",
   "metadata": {
    "id": "cUuuMivYKRwb"
   },
   "source": [
    "### Filtros\n",
    "\n",
    "In this problem set, we will focus only on employed individuals older than eighteen (18) years old."
   ]
  },
  {
   "cell_type": "markdown",
   "metadata": {
    "id": "BkqtWfl1KkUa"
   },
   "source": [
    "#### Age and employed"
   ]
  },
  {
   "cell_type": "code",
   "execution_count": 56,
   "metadata": {
    "colab": {
     "base_uri": "https://localhost:8080/"
    },
    "executionInfo": {
     "elapsed": 1087,
     "status": "ok",
     "timestamp": 1730958631503,
     "user": {
      "displayName": "María Victoria Mascaró",
      "userId": "07190485167329860905"
     },
     "user_tz": 180
    },
    "id": "8uwqpdeTKO_e",
    "outputId": "627bfbd3-4dcf-425a-99fc-e30814f5aa9a"
   },
   "outputs": [
    {
     "name": "stdout",
     "output_type": "stream",
     "text": [
      "Estadísticas descriptivas de variables numéricas:\n",
      "         Unnamed: 0    directorio   secuencia_p         orden    clase  \\\n",
      "count  16397.000000  1.639700e+04  16397.000000  16397.000000  16397.0   \n",
      "mean    1620.236324  4.656795e+06      1.014515      1.911569      1.0   \n",
      "std      930.622621  8.189005e+04      0.133576      1.207285      0.0   \n",
      "min        1.000000  4.514331e+06      1.000000      1.000000      1.0   \n",
      "25%      809.000000  4.588487e+06      1.000000      1.000000      1.0   \n",
      "50%     1623.000000  4.655288e+06      1.000000      2.000000      1.0   \n",
      "75%     2428.000000  4.728969e+06      1.000000      2.000000      1.0   \n",
      "max     3218.000000  4.804455e+06      4.000000     12.000000      1.0   \n",
      "\n",
      "                mes      estrato1           sex           age         p6050  \\\n",
      "count  16397.000000  16397.000000  16397.000000  16397.000000  16397.000000   \n",
      "mean       6.453742      2.555102      0.529487     39.625724      2.191376   \n",
      "std        3.371451      1.012892      0.499145     13.390111      1.778224   \n",
      "min        1.000000      1.000000      0.000000     19.000000      1.000000   \n",
      "25%        4.000000      2.000000      0.000000     28.000000      1.000000   \n",
      "50%        6.000000      2.000000      1.000000     38.000000      2.000000   \n",
      "75%        9.000000      3.000000      1.000000     50.000000      3.000000   \n",
      "max       12.000000      6.000000      1.000000     94.000000      9.000000   \n",
      "\n",
      "       ...  y_viaticos_m  y_accidentes_m  y_salarySec_m  y_ingLab_m_ha  \\\n",
      "count  ...  3.970000e+02    3.500000e+01   4.530000e+02    9785.000000   \n",
      "mean   ...  3.105869e+06    4.471214e+05   6.970844e+05    8868.213017   \n",
      "std    ...  1.034243e+07    7.379406e+05   1.129733e+06   12917.112329   \n",
      "min    ...  0.000000e+00    0.000000e+00   6.000000e+03     326.666656   \n",
      "25%    ...  0.000000e+00    0.000000e+00   1.200000e+05    4226.507812   \n",
      "50%    ...  6.000000e+05    7.000000e+04   3.000000e+05    5071.809082   \n",
      "75%    ...  2.000000e+06    5.950000e+05   7.500000e+05    8101.851562   \n",
      "max    ...  1.300000e+08    3.125000e+06   1.000000e+07  350583.343750   \n",
      "\n",
      "       y_gananciaNeta_m  y_gananciaNetaAgro_m  y_gananciaIndep_m  \\\n",
      "count      4.847000e+03                   0.0       4.847000e+03   \n",
      "mean       1.362411e+06                   NaN       1.362411e+06   \n",
      "std        2.472288e+06                   NaN       2.472288e+06   \n",
      "min        8.400000e+01                   NaN       8.400000e+01   \n",
      "25%        5.000000e+05                   NaN       5.000000e+05   \n",
      "50%        8.000000e+05                   NaN       8.000000e+05   \n",
      "75%        1.500000e+06                   NaN       1.500000e+06   \n",
      "max        7.000000e+07                   NaN       7.000000e+07   \n",
      "\n",
      "       y_gananciaIndep_m_hu     y_total_m   y_total_m_ha  \n",
      "count           4847.000000  1.463200e+04   14632.000000  \n",
      "mean            8124.895553  1.626340e+06    8578.865772  \n",
      "std            15867.750273  2.440279e+06   13902.312075  \n",
      "min                0.471528  8.400000e+01       0.471528  \n",
      "25%             2666.666748  8.000000e+05    3797.704102  \n",
      "50%             4148.147949  9.965565e+05    4855.290527  \n",
      "75%             7777.777832  1.562500e+06    7952.669189  \n",
      "max           340277.781250  7.000000e+07  350583.343750  \n",
      "\n",
      "[8 rows x 177 columns]\n",
      "\n",
      "Estadísticas descriptivas de variables categóricas:\n",
      "       dominio\n",
      "count    16397\n",
      "unique       1\n",
      "top     BOGOTA\n",
      "freq     16397\n"
     ]
    }
   ],
   "source": [
    "import pandas as pd\n",
    "\n",
    "# Supongamos que df es tu DataFrame original\n",
    "\n",
    "# Filtrar los individuos empleados y mayores de 18 años\n",
    "# Asumiendo que las columnas relevantes son 'edad' para la edad y 'empleo' para el estado de empleo\n",
    "df_filtered = df[(df['age'] > 18) & (df[\"ocu\"] == 1)] \n",
    "\n",
    "# Descripción de las variables numéricas\n",
    "descriptive_stats = df_filtered.describe()\n",
    "\n",
    "# Para ver las distribuciones de las variables categóricas\n",
    "categorical_columns = df_filtered.select_dtypes(include=['object']).columns\n",
    "categorical_stats = df_filtered[categorical_columns].describe()\n",
    "\n",
    "# Mostrar la descripción estadística\n",
    "print(\"Estadísticas descriptivas de variables numéricas:\")\n",
    "print(descriptive_stats)\n",
    "\n",
    "print(\"\\nEstadísticas descriptivas de variables categóricas:\")\n",
    "print(categorical_stats)"
   ]
  },
  {
   "cell_type": "markdown",
   "metadata": {
    "id": "2nm33CcbLXat"
   },
   "source": [
    "### Drop Dominio"
   ]
  },
  {
   "cell_type": "code",
   "execution_count": 57,
   "metadata": {
    "id": "bTjWlzY2LRQ7"
   },
   "outputs": [],
   "source": [
    "df.drop(columns=['dominio'], inplace=True)"
   ]
  },
  {
   "cell_type": "markdown",
   "metadata": {
    "id": "FUKP5VVmNucb"
   },
   "source": [
    "### Save cleaned data"
   ]
  },
  {
   "cell_type": "code",
   "execution_count": null,
   "metadata": {
    "colab": {
     "base_uri": "https://localhost:8080/",
     "height": 35
    },
    "executionInfo": {
     "elapsed": 295,
     "status": "ok",
     "timestamp": 1730958921923,
     "user": {
      "displayName": "María Victoria Mascaró",
      "userId": "07190485167329860905"
     },
     "user_tz": 180
    },
    "id": "R5TwJ-ieMPBE",
    "outputId": "e77688c8-3b28-47e8-a89c-b9dde7ae998a"
   },
   "outputs": [
    {
     "name": "stderr",
     "output_type": "stream",
     "text": [
      "<>:1: SyntaxWarning: invalid escape sequence '\\d'\n",
      "<>:1: SyntaxWarning: invalid escape sequence '\\d'\n",
      "C:\\Users\\Public\\Documents\\Wondershare\\CreatorTemp\\ipykernel_15656\\579324586.py:1: SyntaxWarning: invalid escape sequence '\\d'\n",
      "  path_data+'\\df_clean.csv'\n"
     ]
    },
    {
     "data": {
      "text/plain": [
       "'C:\\\\Users\\\\ferma\\\\OneDrive\\\\Documentos\\\\UNLP-ME\\\\ML_UNLP\\\\stores\\\\df_clean.csv'"
      ]
     },
     "execution_count": 59,
     "metadata": {},
     "output_type": "execute_result"
    }
   ],
   "source": [
    "path_data+'df_clean.csv'"
   ]
  },
  {
   "cell_type": "code",
   "execution_count": null,
   "metadata": {
    "id": "qn2v7EcsL4yP"
   },
   "outputs": [
    {
     "name": "stderr",
     "output_type": "stream",
     "text": [
      "<>:1: SyntaxWarning: invalid escape sequence '\\d'\n",
      "<>:1: SyntaxWarning: invalid escape sequence '\\d'\n",
      "C:\\Users\\Public\\Documents\\Wondershare\\CreatorTemp\\ipykernel_15656\\1657293850.py:1: SyntaxWarning: invalid escape sequence '\\d'\n",
      "  df.to_csv(path_data+'\\df_clean.csv', index=False)\n"
     ]
    }
   ],
   "source": [
    "df.to_csv(path_data +'\\df_clean.csv', index=False)"
   ]
  }
 ],
 "metadata": {
  "colab": {
   "provenance": []
  },
  "kernelspec": {
   "display_name": "Python 3",
   "name": "python3"
  },
  "language_info": {
   "codemirror_mode": {
    "name": "ipython",
    "version": 3
   },
   "file_extension": ".py",
   "mimetype": "text/x-python",
   "name": "python",
   "nbconvert_exporter": "python",
   "pygments_lexer": "ipython3",
   "version": "3.12.7"
  }
 },
 "nbformat": 4,
 "nbformat_minor": 0
}
